{
  "nbformat": 4,
  "nbformat_minor": 0,
  "metadata": {
    "colab": {
      "name": "200009734",
      "provenance": [],
      "collapsed_sections": []
    },
    "kernelspec": {
      "display_name": "Python 3",
      "name": "python3"
    }
  },
  "cells": [
    {
      "cell_type": "markdown",
      "metadata": {
        "id": "6_GZ4M5IMzAa"
      },
      "source": [
        "## Get the data"
      ]
    },
    {
      "cell_type": "markdown",
      "metadata": {
        "id": "-8C9KrPSNyXp"
      },
      "source": [
        "Import necessary packages."
      ]
    },
    {
      "cell_type": "code",
      "metadata": {
        "id": "VJoHeK4TM2eb"
      },
      "source": [
        "import pandas as pd\n",
        "import numpy as np\n",
        "import matplotlib.pyplot as plt"
      ],
      "execution_count": 1,
      "outputs": []
    },
    {
      "cell_type": "code",
      "metadata": {
        "colab": {
          "base_uri": "https://localhost:8080/"
        },
        "id": "HBxtHcOMOOky",
        "outputId": "0a371cb1-0410-48d8-e94d-a78907179670"
      },
      "source": [
        "cd drive/MyDrive/Colab\\ Notebooks"
      ],
      "execution_count": 2,
      "outputs": [
        {
          "output_type": "stream",
          "text": [
            "/content/drive/MyDrive/Colab Notebooks\n"
          ],
          "name": "stdout"
        }
      ]
    },
    {
      "cell_type": "markdown",
      "metadata": {
        "id": "1RykVxQ0Ob-1"
      },
      "source": [
        "Read needed columns only."
      ]
    },
    {
      "cell_type": "code",
      "metadata": {
        "colab": {
          "base_uri": "https://localhost:8080/",
          "height": 419
        },
        "id": "Qgm3beUKOUg_",
        "outputId": "27cd220e-aca0-4295-a98a-a82c0a992359"
      },
      "source": [
        "data = pd.read_csv(\"pp-complete.csv\",usecols=[1,2,4,6,11],header=None,names=['Price','Time','PropertyType','EstateType','Location'])\n",
        "data"
      ],
      "execution_count": 3,
      "outputs": [
        {
          "output_type": "execute_result",
          "data": {
            "text/html": [
              "<div>\n",
              "<style scoped>\n",
              "    .dataframe tbody tr th:only-of-type {\n",
              "        vertical-align: middle;\n",
              "    }\n",
              "\n",
              "    .dataframe tbody tr th {\n",
              "        vertical-align: top;\n",
              "    }\n",
              "\n",
              "    .dataframe thead th {\n",
              "        text-align: right;\n",
              "    }\n",
              "</style>\n",
              "<table border=\"1\" class=\"dataframe\">\n",
              "  <thead>\n",
              "    <tr style=\"text-align: right;\">\n",
              "      <th></th>\n",
              "      <th>Price</th>\n",
              "      <th>Time</th>\n",
              "      <th>PropertyType</th>\n",
              "      <th>EstateType</th>\n",
              "      <th>Location</th>\n",
              "    </tr>\n",
              "  </thead>\n",
              "  <tbody>\n",
              "    <tr>\n",
              "      <th>0</th>\n",
              "      <td>18500</td>\n",
              "      <td>1995-01-31 00:00</td>\n",
              "      <td>F</td>\n",
              "      <td>L</td>\n",
              "      <td>TORQUAY</td>\n",
              "    </tr>\n",
              "    <tr>\n",
              "      <th>1</th>\n",
              "      <td>73450</td>\n",
              "      <td>1995-10-09 00:00</td>\n",
              "      <td>D</td>\n",
              "      <td>F</td>\n",
              "      <td>LIVERPOOL</td>\n",
              "    </tr>\n",
              "    <tr>\n",
              "      <th>2</th>\n",
              "      <td>59000</td>\n",
              "      <td>1995-03-31 00:00</td>\n",
              "      <td>D</td>\n",
              "      <td>F</td>\n",
              "      <td>POOLE</td>\n",
              "    </tr>\n",
              "    <tr>\n",
              "      <th>3</th>\n",
              "      <td>31000</td>\n",
              "      <td>1995-12-04 00:00</td>\n",
              "      <td>D</td>\n",
              "      <td>F</td>\n",
              "      <td>WOODBRIDGE</td>\n",
              "    </tr>\n",
              "    <tr>\n",
              "      <th>4</th>\n",
              "      <td>95000</td>\n",
              "      <td>1995-09-22 00:00</td>\n",
              "      <td>D</td>\n",
              "      <td>F</td>\n",
              "      <td>LICHFIELD</td>\n",
              "    </tr>\n",
              "    <tr>\n",
              "      <th>...</th>\n",
              "      <td>...</td>\n",
              "      <td>...</td>\n",
              "      <td>...</td>\n",
              "      <td>...</td>\n",
              "      <td>...</td>\n",
              "    </tr>\n",
              "    <tr>\n",
              "      <th>25744775</th>\n",
              "      <td>450000</td>\n",
              "      <td>2020-09-14 00:00</td>\n",
              "      <td>D</td>\n",
              "      <td>F</td>\n",
              "      <td>KNUTSFORD</td>\n",
              "    </tr>\n",
              "    <tr>\n",
              "      <th>25744776</th>\n",
              "      <td>232500</td>\n",
              "      <td>2020-08-27 00:00</td>\n",
              "      <td>D</td>\n",
              "      <td>F</td>\n",
              "      <td>NORTHWICH</td>\n",
              "    </tr>\n",
              "    <tr>\n",
              "      <th>25744777</th>\n",
              "      <td>190000</td>\n",
              "      <td>2020-07-15 00:00</td>\n",
              "      <td>S</td>\n",
              "      <td>F</td>\n",
              "      <td>WIRRAL</td>\n",
              "    </tr>\n",
              "    <tr>\n",
              "      <th>25744778</th>\n",
              "      <td>150000</td>\n",
              "      <td>2020-08-17 00:00</td>\n",
              "      <td>T</td>\n",
              "      <td>F</td>\n",
              "      <td>CREWE</td>\n",
              "    </tr>\n",
              "    <tr>\n",
              "      <th>25744779</th>\n",
              "      <td>155000</td>\n",
              "      <td>2020-07-24 00:00</td>\n",
              "      <td>S</td>\n",
              "      <td>F</td>\n",
              "      <td>CHESTER</td>\n",
              "    </tr>\n",
              "  </tbody>\n",
              "</table>\n",
              "<p>25744780 rows × 5 columns</p>\n",
              "</div>"
            ],
            "text/plain": [
              "           Price              Time PropertyType EstateType    Location\n",
              "0          18500  1995-01-31 00:00            F          L     TORQUAY\n",
              "1          73450  1995-10-09 00:00            D          F   LIVERPOOL\n",
              "2          59000  1995-03-31 00:00            D          F       POOLE\n",
              "3          31000  1995-12-04 00:00            D          F  WOODBRIDGE\n",
              "4          95000  1995-09-22 00:00            D          F   LICHFIELD\n",
              "...          ...               ...          ...        ...         ...\n",
              "25744775  450000  2020-09-14 00:00            D          F   KNUTSFORD\n",
              "25744776  232500  2020-08-27 00:00            D          F   NORTHWICH\n",
              "25744777  190000  2020-07-15 00:00            S          F      WIRRAL\n",
              "25744778  150000  2020-08-17 00:00            T          F       CREWE\n",
              "25744779  155000  2020-07-24 00:00            S          F     CHESTER\n",
              "\n",
              "[25744780 rows x 5 columns]"
            ]
          },
          "metadata": {
            "tags": []
          },
          "execution_count": 3
        }
      ]
    },
    {
      "cell_type": "code",
      "metadata": {
        "colab": {
          "base_uri": "https://localhost:8080/"
        },
        "id": "3cV3_vipP4zk",
        "outputId": "4a1e4fa9-46d6-49d5-ea79-97226afcdeb6"
      },
      "source": [
        "from google.colab import drive\n",
        "drive.mount('/content/drive')"
      ],
      "execution_count": 4,
      "outputs": [
        {
          "output_type": "stream",
          "text": [
            "Drive already mounted at /content/drive; to attempt to forcibly remount, call drive.mount(\"/content/drive\", force_remount=True).\n"
          ],
          "name": "stdout"
        }
      ]
    },
    {
      "cell_type": "markdown",
      "metadata": {
        "id": "q_O3bfs5M25M"
      },
      "source": [
        "## Explore the data"
      ]
    },
    {
      "cell_type": "code",
      "metadata": {
        "colab": {
          "base_uri": "https://localhost:8080/",
          "height": 297
        },
        "id": "7eNhjl34M5uM",
        "outputId": "954fc2ea-d7a6-4a21-d1f0-464869d6ea6f"
      },
      "source": [
        "data.describe()"
      ],
      "execution_count": 5,
      "outputs": [
        {
          "output_type": "execute_result",
          "data": {
            "text/html": [
              "<div>\n",
              "<style scoped>\n",
              "    .dataframe tbody tr th:only-of-type {\n",
              "        vertical-align: middle;\n",
              "    }\n",
              "\n",
              "    .dataframe tbody tr th {\n",
              "        vertical-align: top;\n",
              "    }\n",
              "\n",
              "    .dataframe thead th {\n",
              "        text-align: right;\n",
              "    }\n",
              "</style>\n",
              "<table border=\"1\" class=\"dataframe\">\n",
              "  <thead>\n",
              "    <tr style=\"text-align: right;\">\n",
              "      <th></th>\n",
              "      <th>Price</th>\n",
              "    </tr>\n",
              "  </thead>\n",
              "  <tbody>\n",
              "    <tr>\n",
              "      <th>count</th>\n",
              "      <td>2.574478e+07</td>\n",
              "    </tr>\n",
              "    <tr>\n",
              "      <th>mean</th>\n",
              "      <td>2.013365e+05</td>\n",
              "    </tr>\n",
              "    <tr>\n",
              "      <th>std</th>\n",
              "      <td>8.028588e+05</td>\n",
              "    </tr>\n",
              "    <tr>\n",
              "      <th>min</th>\n",
              "      <td>1.000000e+00</td>\n",
              "    </tr>\n",
              "    <tr>\n",
              "      <th>25%</th>\n",
              "      <td>8.000000e+04</td>\n",
              "    </tr>\n",
              "    <tr>\n",
              "      <th>50%</th>\n",
              "      <td>1.400000e+05</td>\n",
              "    </tr>\n",
              "    <tr>\n",
              "      <th>75%</th>\n",
              "      <td>2.300000e+05</td>\n",
              "    </tr>\n",
              "    <tr>\n",
              "      <th>max</th>\n",
              "      <td>5.943000e+08</td>\n",
              "    </tr>\n",
              "  </tbody>\n",
              "</table>\n",
              "</div>"
            ],
            "text/plain": [
              "              Price\n",
              "count  2.574478e+07\n",
              "mean   2.013365e+05\n",
              "std    8.028588e+05\n",
              "min    1.000000e+00\n",
              "25%    8.000000e+04\n",
              "50%    1.400000e+05\n",
              "75%    2.300000e+05\n",
              "max    5.943000e+08"
            ]
          },
          "metadata": {
            "tags": []
          },
          "execution_count": 5
        }
      ]
    },
    {
      "cell_type": "markdown",
      "metadata": {
        "id": "p51OPKhDSF09"
      },
      "source": [
        "Plot histogram of price paid"
      ]
    },
    {
      "cell_type": "code",
      "metadata": {
        "colab": {
          "base_uri": "https://localhost:8080/",
          "height": 289
        },
        "id": "5wbf-HwWSExR",
        "outputId": "98af7757-09cf-412d-f6db-740ea3a3de8d"
      },
      "source": [
        "data['Price'].hist(bins = 50)\n",
        "plt.show()"
      ],
      "execution_count": 6,
      "outputs": [
        {
          "output_type": "display_data",
          "data": {
            "image/png": "[encoded data removed]",
            "text/plain": [
              "<Figure size 432x288 with 1 Axes>"
            ]
          },
          "metadata": {
            "tags": [],
            "needs_background": "light"
          }
        }
      ]
    },
    {
      "cell_type": "markdown",
      "metadata": {
        "id": "0s7BfXCHfanj"
      },
      "source": [
        "Replot the histogram with the highest 0.01 portion ignored."
      ]
    },
    {
      "cell_type": "code",
      "metadata": {
        "colab": {
          "base_uri": "https://localhost:8080/",
          "height": 289
        },
        "id": "N01ZX_DkUcy1",
        "outputId": "a66750ba-4565-43c4-c186-082d1fe5dbab"
      },
      "source": [
        "data['Price'].hist(bins = 50, range = (0,np.percentile(data['Price'],99)))\n",
        "plt.show()"
      ],
      "execution_count": 7,
      "outputs": [
        {
          "output_type": "display_data",
          "data": {
            "image/png": "[encoded data removed]",
            "text/plain": [
              "<Figure size 432x288 with 1 Axes>"
            ]
          },
          "metadata": {
            "tags": [],
            "needs_background": "light"
          }
        }
      ]
    },
    {
      "cell_type": "markdown",
      "metadata": {
        "id": "p3yqgTgaQ8QJ"
      },
      "source": [
        "Calculate the median of price paid in each year. Plot a line chart to see the trend of house pricing prior to 2017."
      ]
    },
    {
      "cell_type": "code",
      "metadata": {
        "colab": {
          "base_uri": "https://localhost:8080/",
          "height": 266
        },
        "id": "G0bsOqmQY_Ly",
        "outputId": "ad90b445-57ad-4738-ffeb-ce278d0ad541"
      },
      "source": [
        "#convert the content in 'Time' column to time value.\n",
        "data['Time'] = pd.to_datetime(data['Time'], errors='coerce')\n",
        "\n",
        "import datetime as dt\n",
        "price_median_annual = []\n",
        "year = []\n",
        "for i in range(1995, 2017):\n",
        "  price_median_annual.append(data[data['Time'].dt.year==i]['Price'].median())\n",
        "  year.append(i)\n",
        "\n",
        "plt.plot(year, price_median_annual)\n",
        "plt.show()"
      ],
      "execution_count": 8,
      "outputs": [
        {
          "output_type": "display_data",
          "data": {
            "image/png": "[encoded data removed]",
            "text/plain": [
              "<Figure size 432x288 with 1 Axes>"
            ]
          },
          "metadata": {
            "tags": [],
            "needs_background": "light"
          }
        }
      ]
    },
    {
      "cell_type": "markdown",
      "metadata": {
        "id": "Dk29k44bhQIu"
      },
      "source": [
        "We can see from graph above that the median of price paid increases along with year. Thus, we infer that price paid in 2017 would be the most similar to price paid in 2016 and 2015. Therefore, we predict the price paid in 2017 based on than in 2016 and 2015."
      ]
    },
    {
      "cell_type": "markdown",
      "metadata": {
        "id": "CIHyoLckM_ML"
      },
      "source": [
        "## Prepare the data"
      ]
    },
    {
      "cell_type": "markdown",
      "metadata": {
        "id": "PhXTxcxckR5R"
      },
      "source": [
        "We only take data of 2015, 2016 and 2017"
      ]
    },
    {
      "cell_type": "code",
      "metadata": {
        "id": "RjsjeocajEGM"
      },
      "source": [
        "data = data[data['Time'].dt.year>=2015]\n",
        "data = data[data['Time'].dt.year<=2017]"
      ],
      "execution_count": 9,
      "outputs": []
    },
    {
      "cell_type": "markdown",
      "metadata": {
        "id": "rBqgP5rWlLPh"
      },
      "source": [
        "Encode non-numerical columns."
      ]
    },
    {
      "cell_type": "code",
      "metadata": {
        "colab": {
          "base_uri": "https://localhost:8080/",
          "height": 419
        },
        "id": "PL9hF4o3gzJf",
        "outputId": "1ebf33b3-1396-4a14-fdae-7107839a4c29"
      },
      "source": [
        "def encode_location(row):\n",
        "    if 'LONDON' in row['Location']:\n",
        "        return 1\n",
        "    return 0\n",
        "\n",
        "def encode_EstateType(row):\n",
        "    if row['EstateType']=='L':\n",
        "        return 1\n",
        "    return 0\n",
        "\n",
        "data['Location'] = data.apply(encode_location,axis=1)\n",
        "data['EstateType'] = data.apply(encode_EstateType,axis=1)\n",
        "\n",
        "one_hot = pd.get_dummies(data['PropertyType'])\n",
        "data = data.drop(\"PropertyType\", axis = 1)\n",
        "data = data.join(one_hot)\n",
        "data.head(50)\n",
        "\n",
        "data"
      ],
      "execution_count": 10,
      "outputs": [
        {
          "output_type": "execute_result",
          "data": {
            "text/html": [
              "<div>\n",
              "<style scoped>\n",
              "    .dataframe tbody tr th:only-of-type {\n",
              "        vertical-align: middle;\n",
              "    }\n",
              "\n",
              "    .dataframe tbody tr th {\n",
              "        vertical-align: top;\n",
              "    }\n",
              "\n",
              "    .dataframe thead th {\n",
              "        text-align: right;\n",
              "    }\n",
              "</style>\n",
              "<table border=\"1\" class=\"dataframe\">\n",
              "  <thead>\n",
              "    <tr style=\"text-align: right;\">\n",
              "      <th></th>\n",
              "      <th>Price</th>\n",
              "      <th>Time</th>\n",
              "      <th>EstateType</th>\n",
              "      <th>Location</th>\n",
              "      <th>D</th>\n",
              "      <th>F</th>\n",
              "      <th>O</th>\n",
              "      <th>S</th>\n",
              "      <th>T</th>\n",
              "    </tr>\n",
              "  </thead>\n",
              "  <tbody>\n",
              "    <tr>\n",
              "      <th>20011212</th>\n",
              "      <td>389000</td>\n",
              "      <td>2015-02-20</td>\n",
              "      <td>0</td>\n",
              "      <td>0</td>\n",
              "      <td>1</td>\n",
              "      <td>0</td>\n",
              "      <td>0</td>\n",
              "      <td>0</td>\n",
              "      <td>0</td>\n",
              "    </tr>\n",
              "    <tr>\n",
              "      <th>20011213</th>\n",
              "      <td>267995</td>\n",
              "      <td>2015-03-11</td>\n",
              "      <td>0</td>\n",
              "      <td>0</td>\n",
              "      <td>1</td>\n",
              "      <td>0</td>\n",
              "      <td>0</td>\n",
              "      <td>0</td>\n",
              "      <td>0</td>\n",
              "    </tr>\n",
              "    <tr>\n",
              "      <th>20011214</th>\n",
              "      <td>165000</td>\n",
              "      <td>2015-07-10</td>\n",
              "      <td>0</td>\n",
              "      <td>0</td>\n",
              "      <td>0</td>\n",
              "      <td>0</td>\n",
              "      <td>0</td>\n",
              "      <td>1</td>\n",
              "      <td>0</td>\n",
              "    </tr>\n",
              "    <tr>\n",
              "      <th>20011215</th>\n",
              "      <td>207500</td>\n",
              "      <td>2015-05-14</td>\n",
              "      <td>0</td>\n",
              "      <td>0</td>\n",
              "      <td>0</td>\n",
              "      <td>0</td>\n",
              "      <td>0</td>\n",
              "      <td>0</td>\n",
              "      <td>1</td>\n",
              "    </tr>\n",
              "    <tr>\n",
              "      <th>20011216</th>\n",
              "      <td>700000</td>\n",
              "      <td>2015-01-14</td>\n",
              "      <td>0</td>\n",
              "      <td>0</td>\n",
              "      <td>1</td>\n",
              "      <td>0</td>\n",
              "      <td>0</td>\n",
              "      <td>0</td>\n",
              "      <td>0</td>\n",
              "    </tr>\n",
              "    <tr>\n",
              "      <th>...</th>\n",
              "      <td>...</td>\n",
              "      <td>...</td>\n",
              "      <td>...</td>\n",
              "      <td>...</td>\n",
              "      <td>...</td>\n",
              "      <td>...</td>\n",
              "      <td>...</td>\n",
              "      <td>...</td>\n",
              "      <td>...</td>\n",
              "    </tr>\n",
              "    <tr>\n",
              "      <th>23129846</th>\n",
              "      <td>430000</td>\n",
              "      <td>2017-01-16</td>\n",
              "      <td>0</td>\n",
              "      <td>0</td>\n",
              "      <td>1</td>\n",
              "      <td>0</td>\n",
              "      <td>0</td>\n",
              "      <td>0</td>\n",
              "      <td>0</td>\n",
              "    </tr>\n",
              "    <tr>\n",
              "      <th>23129847</th>\n",
              "      <td>300000</td>\n",
              "      <td>2017-01-27</td>\n",
              "      <td>0</td>\n",
              "      <td>0</td>\n",
              "      <td>0</td>\n",
              "      <td>0</td>\n",
              "      <td>0</td>\n",
              "      <td>0</td>\n",
              "      <td>1</td>\n",
              "    </tr>\n",
              "    <tr>\n",
              "      <th>23129848</th>\n",
              "      <td>125000</td>\n",
              "      <td>2017-01-23</td>\n",
              "      <td>1</td>\n",
              "      <td>0</td>\n",
              "      <td>0</td>\n",
              "      <td>1</td>\n",
              "      <td>0</td>\n",
              "      <td>0</td>\n",
              "      <td>0</td>\n",
              "    </tr>\n",
              "    <tr>\n",
              "      <th>23129849</th>\n",
              "      <td>390000</td>\n",
              "      <td>2017-02-10</td>\n",
              "      <td>0</td>\n",
              "      <td>0</td>\n",
              "      <td>1</td>\n",
              "      <td>0</td>\n",
              "      <td>0</td>\n",
              "      <td>0</td>\n",
              "      <td>0</td>\n",
              "    </tr>\n",
              "    <tr>\n",
              "      <th>23129850</th>\n",
              "      <td>380000</td>\n",
              "      <td>2017-02-17</td>\n",
              "      <td>0</td>\n",
              "      <td>0</td>\n",
              "      <td>1</td>\n",
              "      <td>0</td>\n",
              "      <td>0</td>\n",
              "      <td>0</td>\n",
              "      <td>0</td>\n",
              "    </tr>\n",
              "  </tbody>\n",
              "</table>\n",
              "<p>3118639 rows × 9 columns</p>\n",
              "</div>"
            ],
            "text/plain": [
              "           Price       Time  EstateType  Location  D  F  O  S  T\n",
              "20011212  389000 2015-02-20           0         0  1  0  0  0  0\n",
              "20011213  267995 2015-03-11           0         0  1  0  0  0  0\n",
              "20011214  165000 2015-07-10           0         0  0  0  0  1  0\n",
              "20011215  207500 2015-05-14           0         0  0  0  0  0  1\n",
              "20011216  700000 2015-01-14           0         0  1  0  0  0  0\n",
              "...          ...        ...         ...       ... .. .. .. .. ..\n",
              "23129846  430000 2017-01-16           0         0  1  0  0  0  0\n",
              "23129847  300000 2017-01-27           0         0  0  0  0  0  1\n",
              "23129848  125000 2017-01-23           1         0  0  1  0  0  0\n",
              "23129849  390000 2017-02-10           0         0  1  0  0  0  0\n",
              "23129850  380000 2017-02-17           0         0  1  0  0  0  0\n",
              "\n",
              "[3118639 rows x 9 columns]"
            ]
          },
          "metadata": {
            "tags": []
          },
          "execution_count": 10
        }
      ]
    },
    {
      "cell_type": "markdown",
      "metadata": {
        "id": "feFXyPmvl7Eg"
      },
      "source": [
        "Split the data.\n",
        "\n",
        "We use on data of 2015 and 2016 as test set; data of 2017 as test set.\n"
      ]
    },
    {
      "cell_type": "code",
      "metadata": {
        "id": "QsLJHbednr8b"
      },
      "source": [
        "import datetime as dt\n",
        "train = data[data['Time'].dt.year < 2017]\n",
        "test = data[data['Time'].dt.year == 2017]"
      ],
      "execution_count": 11,
      "outputs": []
    },
    {
      "cell_type": "code",
      "metadata": {
        "colab": {
          "base_uri": "https://localhost:8080/",
          "height": 289
        },
        "id": "MGYw_rOWNBL0",
        "outputId": "795e1ea1-1b31-4130-c545-32d0b1b13801"
      },
      "source": [
        "train['Price'].hist(bins = 50)\n",
        "plt.show()"
      ],
      "execution_count": 12,
      "outputs": [
        {
          "output_type": "display_data",
          "data": {
            "image/png": "[encoded data removed]",
            "text/plain": [
              "<Figure size 432x288 with 1 Axes>"
            ]
          },
          "metadata": {
            "tags": [],
            "needs_background": "light"
          }
        }
      ]
    },
    {
      "cell_type": "code",
      "metadata": {
        "colab": {
          "base_uri": "https://localhost:8080/"
        },
        "id": "r4cV3l3IpFAp",
        "outputId": "66174135-3139-4f16-b2d9-748c0da84aaa"
      },
      "source": [
        "train['Price'].describe()"
      ],
      "execution_count": 13,
      "outputs": [
        {
          "output_type": "execute_result",
          "data": {
            "text/plain": [
              "count    2.054506e+06\n",
              "mean     3.053380e+05\n",
              "std      1.047101e+06\n",
              "min      1.000000e+00\n",
              "25%      1.350000e+05\n",
              "50%      2.100000e+05\n",
              "75%      3.260000e+05\n",
              "max      3.700000e+08\n",
              "Name: Price, dtype: float64"
            ]
          },
          "metadata": {
            "tags": []
          },
          "execution_count": 13
        }
      ]
    },
    {
      "cell_type": "markdown",
      "metadata": {
        "id": "9XrpsHVmoayk"
      },
      "source": [
        "Remove outliers."
      ]
    },
    {
      "cell_type": "code",
      "metadata": {
        "id": "NqDjT_rRoXIJ"
      },
      "source": [
        "# get quartiles\n",
        "Q1 = train['Price'].quantile(q = 0.25)\n",
        "Q3 = train['Price'].quantile(q = 0.75)\n",
        "\n",
        "# calculate lower and upper boundaries based on interquartile range\n",
        "lower_bound = Q1 - 1.5*(Q3 - Q1)\n",
        "upper_bound = Q3 + 1.5*(Q3 - Q1)\n",
        "\n",
        "train = train.drop(train[(train['Price']>upper_bound)|(train['Price']<lower_bound)].index)"
      ],
      "execution_count": 14,
      "outputs": []
    },
    {
      "cell_type": "code",
      "metadata": {
        "colab": {
          "base_uri": "https://localhost:8080/"
        },
        "id": "E-dttRm3pzL9",
        "outputId": "a09f135f-01a8-403f-9fec-5f5d340ad5c1"
      },
      "source": [
        "train['Price'].describe()"
      ],
      "execution_count": 15,
      "outputs": [
        {
          "output_type": "execute_result",
          "data": {
            "text/plain": [
              "count    1.919840e+06\n",
              "mean     2.257228e+05\n",
              "std      1.249136e+05\n",
              "min      1.000000e+00\n",
              "25%      1.310000e+05\n",
              "50%      1.967500e+05\n",
              "75%      2.950000e+05\n",
              "max      6.125000e+05\n",
              "Name: Price, dtype: float64"
            ]
          },
          "metadata": {
            "tags": []
          },
          "execution_count": 15
        }
      ]
    },
    {
      "cell_type": "code",
      "metadata": {
        "colab": {
          "base_uri": "https://localhost:8080/",
          "height": 265
        },
        "id": "1ts4pJH5p-4u",
        "outputId": "66586929-33aa-4a32-bada-e112a1f5fd9f"
      },
      "source": [
        "train['Price'].hist(bins = 50)\n",
        "plt.show()"
      ],
      "execution_count": 16,
      "outputs": [
        {
          "output_type": "display_data",
          "data": {
            "image/png": "[encoded data removed]",
            "text/plain": [
              "<Figure size 432x288 with 1 Axes>"
            ]
          },
          "metadata": {
            "tags": [],
            "needs_background": "light"
          }
        }
      ]
    },
    {
      "cell_type": "markdown",
      "metadata": {
        "id": "Blyta0z2s7gF"
      },
      "source": [
        "separate label and features"
      ]
    },
    {
      "cell_type": "code",
      "metadata": {
        "id": "3ZdeWyebl2Pj"
      },
      "source": [
        "import datetime as dt\n",
        "x_train = train.drop(columns=['Price','Time'])\n",
        "y_train = train.filter(items=['Price'])\n",
        "x_test = test.drop(columns=['Price','Time'])\n",
        "y_test = test.filter(items=['Price'])"
      ],
      "execution_count": 17,
      "outputs": []
    },
    {
      "cell_type": "code",
      "metadata": {
        "colab": {
          "base_uri": "https://localhost:8080/",
          "height": 419
        },
        "id": "UX5_PWyOtUZa",
        "outputId": "8c49658c-d944-4432-892a-1d850c3c8a23"
      },
      "source": [
        "x_train"
      ],
      "execution_count": 18,
      "outputs": [
        {
          "output_type": "execute_result",
          "data": {
            "text/html": [
              "<div>\n",
              "<style scoped>\n",
              "    .dataframe tbody tr th:only-of-type {\n",
              "        vertical-align: middle;\n",
              "    }\n",
              "\n",
              "    .dataframe tbody tr th {\n",
              "        vertical-align: top;\n",
              "    }\n",
              "\n",
              "    .dataframe thead th {\n",
              "        text-align: right;\n",
              "    }\n",
              "</style>\n",
              "<table border=\"1\" class=\"dataframe\">\n",
              "  <thead>\n",
              "    <tr style=\"text-align: right;\">\n",
              "      <th></th>\n",
              "      <th>EstateType</th>\n",
              "      <th>Location</th>\n",
              "      <th>D</th>\n",
              "      <th>F</th>\n",
              "      <th>O</th>\n",
              "      <th>S</th>\n",
              "      <th>T</th>\n",
              "    </tr>\n",
              "  </thead>\n",
              "  <tbody>\n",
              "    <tr>\n",
              "      <th>20011212</th>\n",
              "      <td>0</td>\n",
              "      <td>0</td>\n",
              "      <td>1</td>\n",
              "      <td>0</td>\n",
              "      <td>0</td>\n",
              "      <td>0</td>\n",
              "      <td>0</td>\n",
              "    </tr>\n",
              "    <tr>\n",
              "      <th>20011213</th>\n",
              "      <td>0</td>\n",
              "      <td>0</td>\n",
              "      <td>1</td>\n",
              "      <td>0</td>\n",
              "      <td>0</td>\n",
              "      <td>0</td>\n",
              "      <td>0</td>\n",
              "    </tr>\n",
              "    <tr>\n",
              "      <th>20011214</th>\n",
              "      <td>0</td>\n",
              "      <td>0</td>\n",
              "      <td>0</td>\n",
              "      <td>0</td>\n",
              "      <td>0</td>\n",
              "      <td>1</td>\n",
              "      <td>0</td>\n",
              "    </tr>\n",
              "    <tr>\n",
              "      <th>20011215</th>\n",
              "      <td>0</td>\n",
              "      <td>0</td>\n",
              "      <td>0</td>\n",
              "      <td>0</td>\n",
              "      <td>0</td>\n",
              "      <td>0</td>\n",
              "      <td>1</td>\n",
              "    </tr>\n",
              "    <tr>\n",
              "      <th>20011217</th>\n",
              "      <td>0</td>\n",
              "      <td>0</td>\n",
              "      <td>0</td>\n",
              "      <td>0</td>\n",
              "      <td>0</td>\n",
              "      <td>0</td>\n",
              "      <td>1</td>\n",
              "    </tr>\n",
              "    <tr>\n",
              "      <th>...</th>\n",
              "      <td>...</td>\n",
              "      <td>...</td>\n",
              "      <td>...</td>\n",
              "      <td>...</td>\n",
              "      <td>...</td>\n",
              "      <td>...</td>\n",
              "      <td>...</td>\n",
              "    </tr>\n",
              "    <tr>\n",
              "      <th>22065712</th>\n",
              "      <td>0</td>\n",
              "      <td>0</td>\n",
              "      <td>0</td>\n",
              "      <td>0</td>\n",
              "      <td>1</td>\n",
              "      <td>0</td>\n",
              "      <td>0</td>\n",
              "    </tr>\n",
              "    <tr>\n",
              "      <th>22065713</th>\n",
              "      <td>0</td>\n",
              "      <td>0</td>\n",
              "      <td>0</td>\n",
              "      <td>0</td>\n",
              "      <td>0</td>\n",
              "      <td>0</td>\n",
              "      <td>1</td>\n",
              "    </tr>\n",
              "    <tr>\n",
              "      <th>22065714</th>\n",
              "      <td>0</td>\n",
              "      <td>0</td>\n",
              "      <td>0</td>\n",
              "      <td>0</td>\n",
              "      <td>1</td>\n",
              "      <td>0</td>\n",
              "      <td>0</td>\n",
              "    </tr>\n",
              "    <tr>\n",
              "      <th>22065715</th>\n",
              "      <td>0</td>\n",
              "      <td>0</td>\n",
              "      <td>0</td>\n",
              "      <td>0</td>\n",
              "      <td>1</td>\n",
              "      <td>0</td>\n",
              "      <td>0</td>\n",
              "    </tr>\n",
              "    <tr>\n",
              "      <th>22065717</th>\n",
              "      <td>0</td>\n",
              "      <td>0</td>\n",
              "      <td>0</td>\n",
              "      <td>0</td>\n",
              "      <td>1</td>\n",
              "      <td>0</td>\n",
              "      <td>0</td>\n",
              "    </tr>\n",
              "  </tbody>\n",
              "</table>\n",
              "<p>1919840 rows × 7 columns</p>\n",
              "</div>"
            ],
            "text/plain": [
              "          EstateType  Location  D  F  O  S  T\n",
              "20011212           0         0  1  0  0  0  0\n",
              "20011213           0         0  1  0  0  0  0\n",
              "20011214           0         0  0  0  0  1  0\n",
              "20011215           0         0  0  0  0  0  1\n",
              "20011217           0         0  0  0  0  0  1\n",
              "...              ...       ... .. .. .. .. ..\n",
              "22065712           0         0  0  0  1  0  0\n",
              "22065713           0         0  0  0  0  0  1\n",
              "22065714           0         0  0  0  1  0  0\n",
              "22065715           0         0  0  0  1  0  0\n",
              "22065717           0         0  0  0  1  0  0\n",
              "\n",
              "[1919840 rows x 7 columns]"
            ]
          },
          "metadata": {
            "tags": []
          },
          "execution_count": 18
        }
      ]
    },
    {
      "cell_type": "code",
      "metadata": {
        "colab": {
          "base_uri": "https://localhost:8080/",
          "height": 419
        },
        "id": "nfJ3ObeWtW8t",
        "outputId": "5ef00a92-40e9-4a36-e39a-b2dafc11a7a0"
      },
      "source": [
        "y_train"
      ],
      "execution_count": 19,
      "outputs": [
        {
          "output_type": "execute_result",
          "data": {
            "text/html": [
              "<div>\n",
              "<style scoped>\n",
              "    .dataframe tbody tr th:only-of-type {\n",
              "        vertical-align: middle;\n",
              "    }\n",
              "\n",
              "    .dataframe tbody tr th {\n",
              "        vertical-align: top;\n",
              "    }\n",
              "\n",
              "    .dataframe thead th {\n",
              "        text-align: right;\n",
              "    }\n",
              "</style>\n",
              "<table border=\"1\" class=\"dataframe\">\n",
              "  <thead>\n",
              "    <tr style=\"text-align: right;\">\n",
              "      <th></th>\n",
              "      <th>Price</th>\n",
              "    </tr>\n",
              "  </thead>\n",
              "  <tbody>\n",
              "    <tr>\n",
              "      <th>20011212</th>\n",
              "      <td>389000</td>\n",
              "    </tr>\n",
              "    <tr>\n",
              "      <th>20011213</th>\n",
              "      <td>267995</td>\n",
              "    </tr>\n",
              "    <tr>\n",
              "      <th>20011214</th>\n",
              "      <td>165000</td>\n",
              "    </tr>\n",
              "    <tr>\n",
              "      <th>20011215</th>\n",
              "      <td>207500</td>\n",
              "    </tr>\n",
              "    <tr>\n",
              "      <th>20011217</th>\n",
              "      <td>126000</td>\n",
              "    </tr>\n",
              "    <tr>\n",
              "      <th>...</th>\n",
              "      <td>...</td>\n",
              "    </tr>\n",
              "    <tr>\n",
              "      <th>22065712</th>\n",
              "      <td>249950</td>\n",
              "    </tr>\n",
              "    <tr>\n",
              "      <th>22065713</th>\n",
              "      <td>135000</td>\n",
              "    </tr>\n",
              "    <tr>\n",
              "      <th>22065714</th>\n",
              "      <td>210000</td>\n",
              "    </tr>\n",
              "    <tr>\n",
              "      <th>22065715</th>\n",
              "      <td>315000</td>\n",
              "    </tr>\n",
              "    <tr>\n",
              "      <th>22065717</th>\n",
              "      <td>180000</td>\n",
              "    </tr>\n",
              "  </tbody>\n",
              "</table>\n",
              "<p>1919840 rows × 1 columns</p>\n",
              "</div>"
            ],
            "text/plain": [
              "           Price\n",
              "20011212  389000\n",
              "20011213  267995\n",
              "20011214  165000\n",
              "20011215  207500\n",
              "20011217  126000\n",
              "...          ...\n",
              "22065712  249950\n",
              "22065713  135000\n",
              "22065714  210000\n",
              "22065715  315000\n",
              "22065717  180000\n",
              "\n",
              "[1919840 rows x 1 columns]"
            ]
          },
          "metadata": {
            "tags": []
          },
          "execution_count": 19
        }
      ]
    },
    {
      "cell_type": "markdown",
      "metadata": {
        "id": "TQ4BOXZWNDe0"
      },
      "source": [
        "## Explore models"
      ]
    },
    {
      "cell_type": "markdown",
      "metadata": {
        "id": "piO5ouPUTOjL"
      },
      "source": [
        "Four methods are used evaluate a model.\n",
        "1. Root-mean-square-deviation\n",
        "2. Coefficient of determination (R square). Baseline: 0.0\n",
        "3. The percentage of predictions that are within the range (0.8 * actual value, 1.2 * actual). Baseline: 0.4/2 = 0.2\n",
        "4. The percentage of predictions that are within the range (0.5 * actual value, 1.5 * actual). Baseline: 1/2 = 0.5"
      ]
    },
    {
      "cell_type": "code",
      "metadata": {
        "id": "cQ3VFf8H57sX"
      },
      "source": [
        "from sklearn.metrics import mean_squared_error\n",
        "from sklearn.metrics import r2_score\n",
        "\n",
        "def evaluate(model, x, y):\n",
        "    predictions = model.predict(x)\n",
        "    mse = mean_squared_error(y, predictions)\n",
        "    rmse = np.sqrt(mse)\n",
        "\n",
        "    count = 0\n",
        "    count2 = 0\n",
        "    true_value = np.array(y['Price'])\n",
        "    for i in range(len(y)):\n",
        "        if 1.2*true_value[i] > predictions[i] > 0.8*true_value[i]:\n",
        "           count += 1\n",
        "        if 1.5*true_value[i] > predictions[i] > 0.5*true_value[i]:\n",
        "           count2 += 1\n",
        "\n",
        "    print(\"RMSE: \", np.sqrt(mse),\"\\n\", \"RMSE/Mean: \", rmse/true_value.mean(), \"\\n\", \"R2: \", r2_score(true_value, predictions), \"\\n\", \"(0.8*true_value, 1.2*true_value)%: \", count/len(y), \"\\n\", \"(0.5*true_value, 1.5*true_value)%: \", count2/len(y))\n",
        "\n"
      ],
      "execution_count": 20,
      "outputs": []
    },
    {
      "cell_type": "markdown",
      "metadata": {
        "id": "StypTV-_bEOs"
      },
      "source": [
        "Below, three algorithms are tried with default hyperparameters."
      ]
    },
    {
      "cell_type": "code",
      "metadata": {
        "colab": {
          "base_uri": "https://localhost:8080/"
        },
        "id": "QWND07QXNHsU",
        "outputId": "53c6d891-baae-4b39-8b33-6da7dd6e7403"
      },
      "source": [
        "from sklearn.linear_model import LinearRegression\n",
        "from sklearn.tree import DecisionTreeRegressor\n",
        "from sklearn.svm import LinearSVR\n",
        "\n",
        "#try linear regression\n",
        "lin_reg = LinearRegression()\n",
        "lin_reg.fit(x_train, y_train)\n",
        "\n",
        "print(\"LinearRegression: \\n\")\n",
        "evaluate(lin_reg, x_train, y_train)\n",
        "print(\"\\n\")\n",
        "\n",
        "#try decision tree regressor\n",
        "tree_reg = DecisionTreeRegressor(random_state=42)\n",
        "tree_reg.fit(x_train, y_train)\n",
        "\n",
        "print(\"DecisionTreeRegressor: \\n\")\n",
        "evaluate(tree_reg, x_train, y_train)\n",
        "print(\"\\n\")\n",
        "\n",
        "#try linearSVR\n",
        "lin_svr = LinearSVR(random_state=42)\n",
        "lin_svr.fit(x_train, y_train.values.ravel())\n",
        "\n",
        "print(\"LinearSVR: \\n\")\n",
        "evaluate(lin_svr, x_train, y_train)\n",
        "print(\"\\n\")\n"
      ],
      "execution_count": 21,
      "outputs": [
        {
          "output_type": "stream",
          "text": [
            "LinearRegression: \n",
            "\n",
            "RMSE:  109341.12701671889 \n",
            " RMSE/Mean:  0.4844045134345446 \n",
            " R2:  0.23379019400531664 \n",
            " (0.8*true_value, 1.2*true_value)%:  0.2985905075422952 \n",
            " (0.5*true_value, 1.5*true_value)%:  0.6720940286690558\n",
            "\n",
            "\n",
            "DecisionTreeRegressor: \n",
            "\n",
            "RMSE:  108886.97676121822 \n",
            " RMSE/Mean:  0.4823925309395376 \n",
            " R2:  0.24014190684829873 \n",
            " (0.8*true_value, 1.2*true_value)%:  0.2963408409034086 \n",
            " (0.5*true_value, 1.5*true_value)%:  0.6752781481790149\n",
            "\n",
            "\n",
            "LinearSVR: \n",
            "\n",
            "RMSE:  119255.47052594947 \n",
            " RMSE/Mean:  0.5283271697546814 \n",
            " R2:  0.08854079705270912 \n",
            " (0.8*true_value, 1.2*true_value)%:  0.29312859404950414 \n",
            " (0.5*true_value, 1.5*true_value)%:  0.7043420285023752\n",
            "\n",
            "\n"
          ],
          "name": "stdout"
        }
      ]
    },
    {
      "cell_type": "markdown",
      "metadata": {
        "id": "pqIxOHq7c5bF"
      },
      "source": [
        "Decision tree regressor with default hyperparamters is of the highest RMSE and R2. It is going to get fine-tuned to see if it can get some improvement."
      ]
    },
    {
      "cell_type": "markdown",
      "metadata": {
        "id": "3MSVmQNVNH42"
      },
      "source": [
        "## Fine-tune models"
      ]
    },
    {
      "cell_type": "code",
      "metadata": {
        "colab": {
          "base_uri": "https://localhost:8080/"
        },
        "id": "iO5V2bIH5QxB",
        "outputId": "128d2847-62ea-4e24-a4c1-a4310eeb1550"
      },
      "source": [
        "tree_reg"
      ],
      "execution_count": 22,
      "outputs": [
        {
          "output_type": "execute_result",
          "data": {
            "text/plain": [
              "DecisionTreeRegressor(ccp_alpha=0.0, criterion='mse', max_depth=None,\n",
              "                      max_features=None, max_leaf_nodes=None,\n",
              "                      min_impurity_decrease=0.0, min_impurity_split=None,\n",
              "                      min_samples_leaf=1, min_samples_split=2,\n",
              "                      min_weight_fraction_leaf=0.0, presort='deprecated',\n",
              "                      random_state=42, splitter='best')"
            ]
          },
          "metadata": {
            "tags": []
          },
          "execution_count": 22
        }
      ]
    },
    {
      "cell_type": "code",
      "metadata": {
        "colab": {
          "base_uri": "https://localhost:8080/"
        },
        "id": "bo-Y5KIXNMIW",
        "outputId": "0f45270b-dee4-496e-b50d-79cd92033770"
      },
      "source": [
        "from sklearn.model_selection import GridSearchCV\n",
        "\n",
        "param_grid = {\n",
        "    'max_depth':[4, None],\n",
        "    'max_features':[2, None],\n",
        "    'min_samples_split':[2, 4],\n",
        "    'min_samples_leaf':[1, 2]\n",
        "  }\n",
        "\n",
        "grid_search = GridSearchCV(tree_reg, param_grid,\n",
        "                           scoring='neg_mean_squared_error',\n",
        "                           return_train_score=True, \n",
        "                           cv = 10)\n",
        "\n",
        "grid_search.fit(x_train, y_train.values.ravel())\n",
        "\n",
        "grid_search.best_estimator_"
      ],
      "execution_count": 23,
      "outputs": [
        {
          "output_type": "execute_result",
          "data": {
            "text/plain": [
              "DecisionTreeRegressor(ccp_alpha=0.0, criterion='mse', max_depth=None,\n",
              "                      max_features=2, max_leaf_nodes=None,\n",
              "                      min_impurity_decrease=0.0, min_impurity_split=None,\n",
              "                      min_samples_leaf=1, min_samples_split=2,\n",
              "                      min_weight_fraction_leaf=0.0, presort='deprecated',\n",
              "                      random_state=42, splitter='best')"
            ]
          },
          "metadata": {
            "tags": []
          },
          "execution_count": 23
        }
      ]
    },
    {
      "cell_type": "code",
      "metadata": {
        "colab": {
          "base_uri": "https://localhost:8080/"
        },
        "id": "qafYfPTn6j7t",
        "outputId": "577b208c-ab4c-4780-a794-adf509f68fed"
      },
      "source": [
        "evaluate(grid_search.best_estimator_, x_train,y_train)"
      ],
      "execution_count": 24,
      "outputs": [
        {
          "output_type": "stream",
          "text": [
            "RMSE:  108886.97676121822 \n",
            " RMSE/Mean:  0.4823925309395376 \n",
            " R2:  0.24014190684829873 \n",
            " (0.8*true_value, 1.2*true_value)%:  0.2963408409034086 \n",
            " (0.5*true_value, 1.5*true_value)%:  0.6752781481790149\n"
          ],
          "name": "stdout"
        }
      ]
    },
    {
      "cell_type": "markdown",
      "metadata": {
        "id": "18W3LwEcgKKb"
      },
      "source": [
        "No further improvement for all measurements. "
      ]
    },
    {
      "cell_type": "code",
      "metadata": {
        "id": "FykmcWpSEW1r"
      },
      "source": [
        "final_model = grid_search.best_estimator_"
      ],
      "execution_count": 25,
      "outputs": []
    },
    {
      "cell_type": "code",
      "metadata": {
        "colab": {
          "base_uri": "https://localhost:8080/",
          "height": 419
        },
        "id": "TBhlE65qZkf1",
        "outputId": "53d518b7-3643-4182-b9ba-1d6a45d2104f"
      },
      "source": [
        "x_train"
      ],
      "execution_count": 45,
      "outputs": [
        {
          "output_type": "execute_result",
          "data": {
            "text/html": [
              "<div>\n",
              "<style scoped>\n",
              "    .dataframe tbody tr th:only-of-type {\n",
              "        vertical-align: middle;\n",
              "    }\n",
              "\n",
              "    .dataframe tbody tr th {\n",
              "        vertical-align: top;\n",
              "    }\n",
              "\n",
              "    .dataframe thead th {\n",
              "        text-align: right;\n",
              "    }\n",
              "</style>\n",
              "<table border=\"1\" class=\"dataframe\">\n",
              "  <thead>\n",
              "    <tr style=\"text-align: right;\">\n",
              "      <th></th>\n",
              "      <th>EstateType</th>\n",
              "      <th>Location</th>\n",
              "      <th>D</th>\n",
              "      <th>F</th>\n",
              "      <th>O</th>\n",
              "      <th>S</th>\n",
              "      <th>T</th>\n",
              "    </tr>\n",
              "  </thead>\n",
              "  <tbody>\n",
              "    <tr>\n",
              "      <th>20011212</th>\n",
              "      <td>0</td>\n",
              "      <td>0</td>\n",
              "      <td>1</td>\n",
              "      <td>0</td>\n",
              "      <td>0</td>\n",
              "      <td>0</td>\n",
              "      <td>0</td>\n",
              "    </tr>\n",
              "    <tr>\n",
              "      <th>20011213</th>\n",
              "      <td>0</td>\n",
              "      <td>0</td>\n",
              "      <td>1</td>\n",
              "      <td>0</td>\n",
              "      <td>0</td>\n",
              "      <td>0</td>\n",
              "      <td>0</td>\n",
              "    </tr>\n",
              "    <tr>\n",
              "      <th>20011214</th>\n",
              "      <td>0</td>\n",
              "      <td>0</td>\n",
              "      <td>0</td>\n",
              "      <td>0</td>\n",
              "      <td>0</td>\n",
              "      <td>1</td>\n",
              "      <td>0</td>\n",
              "    </tr>\n",
              "    <tr>\n",
              "      <th>20011215</th>\n",
              "      <td>0</td>\n",
              "      <td>0</td>\n",
              "      <td>0</td>\n",
              "      <td>0</td>\n",
              "      <td>0</td>\n",
              "      <td>0</td>\n",
              "      <td>1</td>\n",
              "    </tr>\n",
              "    <tr>\n",
              "      <th>20011217</th>\n",
              "      <td>0</td>\n",
              "      <td>0</td>\n",
              "      <td>0</td>\n",
              "      <td>0</td>\n",
              "      <td>0</td>\n",
              "      <td>0</td>\n",
              "      <td>1</td>\n",
              "    </tr>\n",
              "    <tr>\n",
              "      <th>...</th>\n",
              "      <td>...</td>\n",
              "      <td>...</td>\n",
              "      <td>...</td>\n",
              "      <td>...</td>\n",
              "      <td>...</td>\n",
              "      <td>...</td>\n",
              "      <td>...</td>\n",
              "    </tr>\n",
              "    <tr>\n",
              "      <th>22065712</th>\n",
              "      <td>0</td>\n",
              "      <td>0</td>\n",
              "      <td>0</td>\n",
              "      <td>0</td>\n",
              "      <td>1</td>\n",
              "      <td>0</td>\n",
              "      <td>0</td>\n",
              "    </tr>\n",
              "    <tr>\n",
              "      <th>22065713</th>\n",
              "      <td>0</td>\n",
              "      <td>0</td>\n",
              "      <td>0</td>\n",
              "      <td>0</td>\n",
              "      <td>0</td>\n",
              "      <td>0</td>\n",
              "      <td>1</td>\n",
              "    </tr>\n",
              "    <tr>\n",
              "      <th>22065714</th>\n",
              "      <td>0</td>\n",
              "      <td>0</td>\n",
              "      <td>0</td>\n",
              "      <td>0</td>\n",
              "      <td>1</td>\n",
              "      <td>0</td>\n",
              "      <td>0</td>\n",
              "    </tr>\n",
              "    <tr>\n",
              "      <th>22065715</th>\n",
              "      <td>0</td>\n",
              "      <td>0</td>\n",
              "      <td>0</td>\n",
              "      <td>0</td>\n",
              "      <td>1</td>\n",
              "      <td>0</td>\n",
              "      <td>0</td>\n",
              "    </tr>\n",
              "    <tr>\n",
              "      <th>22065717</th>\n",
              "      <td>0</td>\n",
              "      <td>0</td>\n",
              "      <td>0</td>\n",
              "      <td>0</td>\n",
              "      <td>1</td>\n",
              "      <td>0</td>\n",
              "      <td>0</td>\n",
              "    </tr>\n",
              "  </tbody>\n",
              "</table>\n",
              "<p>1919840 rows × 7 columns</p>\n",
              "</div>"
            ],
            "text/plain": [
              "          EstateType  Location  D  F  O  S  T\n",
              "20011212           0         0  1  0  0  0  0\n",
              "20011213           0         0  1  0  0  0  0\n",
              "20011214           0         0  0  0  0  1  0\n",
              "20011215           0         0  0  0  0  0  1\n",
              "20011217           0         0  0  0  0  0  1\n",
              "...              ...       ... .. .. .. .. ..\n",
              "22065712           0         0  0  0  1  0  0\n",
              "22065713           0         0  0  0  0  0  1\n",
              "22065714           0         0  0  0  1  0  0\n",
              "22065715           0         0  0  0  1  0  0\n",
              "22065717           0         0  0  0  1  0  0\n",
              "\n",
              "[1919840 rows x 7 columns]"
            ]
          },
          "metadata": {
            "tags": []
          },
          "execution_count": 45
        }
      ]
    },
    {
      "cell_type": "markdown",
      "metadata": {
        "id": "qxkoXzBJbos-"
      },
      "source": [
        "Plot the tree"
      ]
    },
    {
      "cell_type": "code",
      "metadata": {
        "colab": {
          "base_uri": "https://localhost:8080/",
          "height": 954
        },
        "id": "_MDjG7WYbZmp",
        "outputId": "c0f05ddc-af82-4a85-a1df-2d80c20c61ce"
      },
      "source": [
        "import graphviz\n",
        "dot_data = tree.export_graphviz(final_model,\n",
        "        feature_names= [\"EstateType\", \"in London?\", \"Detached?\", \"Flat/maisonette?\",\"Other?\", \"Semi-detached?\", \"Terraced?\"],\n",
        "        rounded=True,\n",
        "        filled=True)\n",
        "graph = graphviz.Source(dot_data, format=\"png\") \n",
        "graph"
      ],
      "execution_count": 60,
      "outputs": [
        {
          "output_type": "execute_result",
          "data": {
            "text/plain": [
              "<graphviz.files.Source at 0x7fcd67459d10>"
            ],
            "image/svg+xml": "<?xml version=\"1.0\" encoding=\"UTF-8\" standalone=\"no\"?>\n<!DOCTYPE svg PUBLIC \"-//W3C//DTD SVG 1.1//EN\"\n \"http://www.w3.org/Graphics/SVG/1.1/DTD/svg11.dtd\">\n<!-- Generated by graphviz version 2.40.1 (20161225.0304)\n -->\n<!-- Title: Tree Pages: 1 -->\n<svg width=\"3283pt\" height=\"685pt\"\n viewBox=\"0.00 0.00 3283.00 685.00\" xmlns=\"http://www.w3.org/2000/svg\" xmlns:xlink=\"http://www.w3.org/1999/xlink\">\n<g id=\"graph0\" class=\"graph\" transform=\"scale(1 1) rotate(0) translate(4 681)\">\n<title>Tree</title>\n<polygon fill=\"#ffffff\" stroke=\"transparent\" points=\"-4,4 -4,-681 3279,-681 3279,4 -4,4\"/>\n<!-- 0 -->\n<g id=\"node1\" class=\"node\">\n<title>0</title>\n<path fill=\"#f7d8c2\" stroke=\"#000000\" d=\"M2583,-677C2583,-677 2428,-677 2428,-677 2422,-677 2416,-671 2416,-665 2416,-665 2416,-621 2416,-621 2416,-615 2422,-609 2428,-609 2428,-609 2583,-609 2583,-609 2589,-609 2595,-615 2595,-621 2595,-621 2595,-665 2595,-665 2595,-671 2589,-677 2583,-677\"/>\n<text text-anchor=\"middle\" x=\"2505.5\" y=\"-661.8\" font-family=\"Helvetica,sans-Serif\" font-size=\"14.00\" fill=\"#000000\">Terraced? &lt;= 0.5</text>\n<text text-anchor=\"middle\" x=\"2505.5\" y=\"-646.8\" font-family=\"Helvetica,sans-Serif\" font-size=\"14.00\" fill=\"#000000\">mse = 15603405181.873</text>\n<text text-anchor=\"middle\" x=\"2505.5\" y=\"-631.8\" font-family=\"Helvetica,sans-Serif\" font-size=\"14.00\" fill=\"#000000\">samples = 1919840</text>\n<text text-anchor=\"middle\" x=\"2505.5\" y=\"-616.8\" font-family=\"Helvetica,sans-Serif\" font-size=\"14.00\" fill=\"#000000\">value = 225722.767</text>\n</g>\n<!-- 1 -->\n<g id=\"node2\" class=\"node\">\n<title>1</title>\n<path fill=\"#f6d3b9\" stroke=\"#000000\" d=\"M2434,-573C2434,-573 2287,-573 2287,-573 2281,-573 2275,-567 2275,-561 2275,-561 2275,-517 2275,-517 2275,-511 2281,-505 2287,-505 2287,-505 2434,-505 2434,-505 2440,-505 2446,-511 2446,-517 2446,-517 2446,-561 2446,-561 2446,-567 2440,-573 2434,-573\"/>\n<text text-anchor=\"middle\" x=\"2360.5\" y=\"-557.8\" font-family=\"Helvetica,sans-Serif\" font-size=\"14.00\" fill=\"#000000\">Detached? &lt;= 0.5</text>\n<text text-anchor=\"middle\" x=\"2360.5\" y=\"-542.8\" font-family=\"Helvetica,sans-Serif\" font-size=\"14.00\" fill=\"#000000\">mse = 16009860854.96</text>\n<text text-anchor=\"middle\" x=\"2360.5\" y=\"-527.8\" font-family=\"Helvetica,sans-Serif\" font-size=\"14.00\" fill=\"#000000\">samples = 1358042</text>\n<text text-anchor=\"middle\" x=\"2360.5\" y=\"-512.8\" font-family=\"Helvetica,sans-Serif\" font-size=\"14.00\" fill=\"#000000\">value = 240733.127</text>\n</g>\n<!-- 0&#45;&gt;1 -->\n<g id=\"edge1\" class=\"edge\">\n<title>0&#45;&gt;1</title>\n<path fill=\"none\" stroke=\"#000000\" d=\"M2458.0216,-608.9465C2444.7523,-599.4293 2430.2085,-588.9978 2416.4965,-579.163\"/>\n<polygon fill=\"#000000\" stroke=\"#000000\" points=\"2418.251,-576.1142 2408.0851,-573.13 2414.1712,-581.8024 2418.251,-576.1142\"/>\n<text text-anchor=\"middle\" x=\"2412.1469\" y=\"-594.0978\" font-family=\"Helvetica,sans-Serif\" font-size=\"14.00\" fill=\"#000000\">True</text>\n</g>\n<!-- 32 -->\n<g id=\"node33\" class=\"node\">\n<title>32</title>\n<path fill=\"#fae7d9\" stroke=\"#000000\" d=\"M2729,-573C2729,-573 2574,-573 2574,-573 2568,-573 2562,-567 2562,-561 2562,-561 2562,-517 2562,-517 2562,-511 2568,-505 2574,-505 2574,-505 2729,-505 2729,-505 2735,-505 2741,-511 2741,-517 2741,-517 2741,-561 2741,-561 2741,-567 2735,-573 2729,-573\"/>\n<text text-anchor=\"middle\" x=\"2651.5\" y=\"-557.8\" font-family=\"Helvetica,sans-Serif\" font-size=\"14.00\" fill=\"#000000\">in London? &lt;= 0.5</text>\n<text text-anchor=\"middle\" x=\"2651.5\" y=\"-542.8\" font-family=\"Helvetica,sans-Serif\" font-size=\"14.00\" fill=\"#000000\">mse = 12759644022.016</text>\n<text text-anchor=\"middle\" x=\"2651.5\" y=\"-527.8\" font-family=\"Helvetica,sans-Serif\" font-size=\"14.00\" fill=\"#000000\">samples = 561798</text>\n<text text-anchor=\"middle\" x=\"2651.5\" y=\"-512.8\" font-family=\"Helvetica,sans-Serif\" font-size=\"14.00\" fill=\"#000000\">value = 189438.016</text>\n</g>\n<!-- 0&#45;&gt;32 -->\n<g id=\"edge32\" class=\"edge\">\n<title>0&#45;&gt;32</title>\n<path fill=\"none\" stroke=\"#000000\" d=\"M2553.3059,-608.9465C2566.6666,-599.4293 2581.3107,-588.9978 2595.1174,-579.163\"/>\n<polygon fill=\"#000000\" stroke=\"#000000\" points=\"2597.4725,-581.7826 2603.5867,-573.13 2593.4112,-576.0811 2597.4725,-581.7826\"/>\n<text text-anchor=\"middle\" x=\"2599.4448\" y=\"-594.0845\" font-family=\"Helvetica,sans-Serif\" font-size=\"14.00\" fill=\"#000000\">False</text>\n</g>\n<!-- 2 -->\n<g id=\"node3\" class=\"node\">\n<title>2</title>\n<path fill=\"#f8ddca\" stroke=\"#000000\" d=\"M1824,-469C1824,-469 1669,-469 1669,-469 1663,-469 1657,-463 1657,-457 1657,-457 1657,-413 1657,-413 1657,-407 1663,-401 1669,-401 1669,-401 1824,-401 1824,-401 1830,-401 1836,-407 1836,-413 1836,-413 1836,-457 1836,-457 1836,-463 1830,-469 1824,-469\"/>\n<text text-anchor=\"middle\" x=\"1746.5\" y=\"-453.8\" font-family=\"Helvetica,sans-Serif\" font-size=\"14.00\" fill=\"#000000\">Semi&#45;detached? &lt;= 0.5</text>\n<text text-anchor=\"middle\" x=\"1746.5\" y=\"-438.8\" font-family=\"Helvetica,sans-Serif\" font-size=\"14.00\" fill=\"#000000\">mse = 14577273581.836</text>\n<text text-anchor=\"middle\" x=\"1746.5\" y=\"-423.8\" font-family=\"Helvetica,sans-Serif\" font-size=\"14.00\" fill=\"#000000\">samples = 936680</text>\n<text text-anchor=\"middle\" x=\"1746.5\" y=\"-408.8\" font-family=\"Helvetica,sans-Serif\" font-size=\"14.00\" fill=\"#000000\">value = 213306.831</text>\n</g>\n<!-- 1&#45;&gt;2 -->\n<g id=\"edge2\" class=\"edge\">\n<title>1&#45;&gt;2</title>\n<path fill=\"none\" stroke=\"#000000\" d=\"M2274.8029,-524.4845C2162.329,-505.4336 1965.2752,-472.0564 1846.2325,-451.8928\"/>\n<polygon fill=\"#000000\" stroke=\"#000000\" points=\"1846.4707,-448.3834 1836.0266,-450.1641 1845.3016,-455.2851 1846.4707,-448.3834\"/>\n</g>\n<!-- 25 -->\n<g id=\"node26\" class=\"node\">\n<title>25</title>\n<path fill=\"#f1bb94\" stroke=\"#000000\" d=\"M2438,-469C2438,-469 2283,-469 2283,-469 2277,-469 2271,-463 2271,-457 2271,-457 2271,-413 2271,-413 2271,-407 2277,-401 2283,-401 2283,-401 2438,-401 2438,-401 2444,-401 2450,-407 2450,-413 2450,-413 2450,-457 2450,-457 2450,-463 2444,-469 2438,-469\"/>\n<text text-anchor=\"middle\" x=\"2360.5\" y=\"-453.8\" font-family=\"Helvetica,sans-Serif\" font-size=\"14.00\" fill=\"#000000\">EstateType &lt;= 0.5</text>\n<text text-anchor=\"middle\" x=\"2360.5\" y=\"-438.8\" font-family=\"Helvetica,sans-Serif\" font-size=\"14.00\" fill=\"#000000\">mse = 13805229798.719</text>\n<text text-anchor=\"middle\" x=\"2360.5\" y=\"-423.8\" font-family=\"Helvetica,sans-Serif\" font-size=\"14.00\" fill=\"#000000\">samples = 421362</text>\n<text text-anchor=\"middle\" x=\"2360.5\" y=\"-408.8\" font-family=\"Helvetica,sans-Serif\" font-size=\"14.00\" fill=\"#000000\">value = 301701.28</text>\n</g>\n<!-- 1&#45;&gt;25 -->\n<g id=\"edge25\" class=\"edge\">\n<title>1&#45;&gt;25</title>\n<path fill=\"none\" stroke=\"#000000\" d=\"M2360.5,-504.9465C2360.5,-496.776 2360.5,-487.9318 2360.5,-479.3697\"/>\n<polygon fill=\"#000000\" stroke=\"#000000\" points=\"2364.0001,-479.13 2360.5,-469.13 2357.0001,-479.13 2364.0001,-479.13\"/>\n</g>\n<!-- 3 -->\n<g id=\"node4\" class=\"node\">\n<title>3</title>\n<path fill=\"#f8ddc9\" stroke=\"#000000\" d=\"M1235,-365C1235,-365 1080,-365 1080,-365 1074,-365 1068,-359 1068,-353 1068,-353 1068,-309 1068,-309 1068,-303 1074,-297 1080,-297 1080,-297 1235,-297 1235,-297 1241,-297 1247,-303 1247,-309 1247,-309 1247,-353 1247,-353 1247,-359 1241,-365 1235,-365\"/>\n<text text-anchor=\"middle\" x=\"1157.5\" y=\"-349.8\" font-family=\"Helvetica,sans-Serif\" font-size=\"14.00\" fill=\"#000000\">in London? &lt;= 0.5</text>\n<text text-anchor=\"middle\" x=\"1157.5\" y=\"-334.8\" font-family=\"Helvetica,sans-Serif\" font-size=\"14.00\" fill=\"#000000\">mse = 17562573176.798</text>\n<text text-anchor=\"middle\" x=\"1157.5\" y=\"-319.8\" font-family=\"Helvetica,sans-Serif\" font-size=\"14.00\" fill=\"#000000\">samples = 436795</text>\n<text text-anchor=\"middle\" x=\"1157.5\" y=\"-304.8\" font-family=\"Helvetica,sans-Serif\" font-size=\"14.00\" fill=\"#000000\">value = 215056.135</text>\n</g>\n<!-- 2&#45;&gt;3 -->\n<g id=\"edge3\" class=\"edge\">\n<title>2&#45;&gt;3</title>\n<path fill=\"none\" stroke=\"#000000\" d=\"M1656.7232,-419.1481C1549.031,-400.1328 1369.0508,-368.3536 1257.1513,-348.5955\"/>\n<polygon fill=\"#000000\" stroke=\"#000000\" points=\"1257.6658,-345.1323 1247.2095,-346.84 1256.4485,-352.0256 1257.6658,-345.1323\"/>\n</g>\n<!-- 18 -->\n<g id=\"node19\" class=\"node\">\n<title>18</title>\n<path fill=\"#f8decb\" stroke=\"#000000\" d=\"M1820,-365C1820,-365 1673,-365 1673,-365 1667,-365 1661,-359 1661,-353 1661,-353 1661,-309 1661,-309 1661,-303 1667,-297 1673,-297 1673,-297 1820,-297 1820,-297 1826,-297 1832,-303 1832,-309 1832,-309 1832,-353 1832,-353 1832,-359 1826,-365 1820,-365\"/>\n<text text-anchor=\"middle\" x=\"1746.5\" y=\"-349.8\" font-family=\"Helvetica,sans-Serif\" font-size=\"14.00\" fill=\"#000000\">EstateType &lt;= 0.5</text>\n<text text-anchor=\"middle\" x=\"1746.5\" y=\"-334.8\" font-family=\"Helvetica,sans-Serif\" font-size=\"14.00\" fill=\"#000000\">mse = 11963735503.72</text>\n<text text-anchor=\"middle\" x=\"1746.5\" y=\"-319.8\" font-family=\"Helvetica,sans-Serif\" font-size=\"14.00\" fill=\"#000000\">samples = 499885</text>\n<text text-anchor=\"middle\" x=\"1746.5\" y=\"-304.8\" font-family=\"Helvetica,sans-Serif\" font-size=\"14.00\" fill=\"#000000\">value = 211778.306</text>\n</g>\n<!-- 2&#45;&gt;18 -->\n<g id=\"edge18\" class=\"edge\">\n<title>2&#45;&gt;18</title>\n<path fill=\"none\" stroke=\"#000000\" d=\"M1746.5,-400.9465C1746.5,-392.776 1746.5,-383.9318 1746.5,-375.3697\"/>\n<polygon fill=\"#000000\" stroke=\"#000000\" points=\"1750.0001,-375.13 1746.5,-365.13 1743.0001,-375.13 1750.0001,-375.13\"/>\n</g>\n<!-- 4 -->\n<g id=\"node5\" class=\"node\">\n<title>4</title>\n<path fill=\"#fbeade\" stroke=\"#000000\" d=\"M650,-261C650,-261 495,-261 495,-261 489,-261 483,-255 483,-249 483,-249 483,-205 483,-205 483,-199 489,-193 495,-193 495,-193 650,-193 650,-193 656,-193 662,-199 662,-205 662,-205 662,-249 662,-249 662,-255 656,-261 650,-261\"/>\n<text text-anchor=\"middle\" x=\"572.5\" y=\"-245.8\" font-family=\"Helvetica,sans-Serif\" font-size=\"14.00\" fill=\"#000000\">EstateType &lt;= 0.5</text>\n<text text-anchor=\"middle\" x=\"572.5\" y=\"-230.8\" font-family=\"Helvetica,sans-Serif\" font-size=\"14.00\" fill=\"#000000\">mse = 11219787051.557</text>\n<text text-anchor=\"middle\" x=\"572.5\" y=\"-215.8\" font-family=\"Helvetica,sans-Serif\" font-size=\"14.00\" fill=\"#000000\">samples = 357751</text>\n<text text-anchor=\"middle\" x=\"572.5\" y=\"-200.8\" font-family=\"Helvetica,sans-Serif\" font-size=\"14.00\" fill=\"#000000\">value = 180817.075</text>\n</g>\n<!-- 3&#45;&gt;4 -->\n<g id=\"edge4\" class=\"edge\">\n<title>3&#45;&gt;4</title>\n<path fill=\"none\" stroke=\"#000000\" d=\"M1067.6953,-315.0347C960.8999,-296.0489 783.1829,-264.4547 672.2126,-244.7267\"/>\n<polygon fill=\"#000000\" stroke=\"#000000\" points=\"672.8095,-241.278 662.3512,-242.9735 671.5842,-248.1699 672.8095,-241.278\"/>\n</g>\n<!-- 11 -->\n<g id=\"node12\" class=\"node\">\n<title>11</title>\n<path fill=\"#eba06a\" stroke=\"#000000\" d=\"M1235,-261C1235,-261 1080,-261 1080,-261 1074,-261 1068,-255 1068,-249 1068,-249 1068,-205 1068,-205 1068,-199 1074,-193 1080,-193 1080,-193 1235,-193 1235,-193 1241,-193 1247,-199 1247,-205 1247,-205 1247,-249 1247,-249 1247,-255 1241,-261 1235,-261\"/>\n<text text-anchor=\"middle\" x=\"1157.5\" y=\"-245.8\" font-family=\"Helvetica,sans-Serif\" font-size=\"14.00\" fill=\"#000000\">Other? &lt;= 0.5</text>\n<text text-anchor=\"middle\" x=\"1157.5\" y=\"-230.8\" font-family=\"Helvetica,sans-Serif\" font-size=\"14.00\" fill=\"#000000\">mse = 16949824832.268</text>\n<text text-anchor=\"middle\" x=\"1157.5\" y=\"-215.8\" font-family=\"Helvetica,sans-Serif\" font-size=\"14.00\" fill=\"#000000\">samples = 79044</text>\n<text text-anchor=\"middle\" x=\"1157.5\" y=\"-200.8\" font-family=\"Helvetica,sans-Serif\" font-size=\"14.00\" fill=\"#000000\">value = 370021.19</text>\n</g>\n<!-- 3&#45;&gt;11 -->\n<g id=\"edge11\" class=\"edge\">\n<title>3&#45;&gt;11</title>\n<path fill=\"none\" stroke=\"#000000\" d=\"M1157.5,-296.9465C1157.5,-288.776 1157.5,-279.9318 1157.5,-271.3697\"/>\n<polygon fill=\"#000000\" stroke=\"#000000\" points=\"1161.0001,-271.13 1157.5,-261.13 1154.0001,-271.13 1161.0001,-271.13\"/>\n</g>\n<!-- 5 -->\n<g id=\"node6\" class=\"node\">\n<title>5</title>\n<path fill=\"#f8ddca\" stroke=\"#000000\" d=\"M352,-157C352,-157 205,-157 205,-157 199,-157 193,-151 193,-145 193,-145 193,-101 193,-101 193,-95 199,-89 205,-89 205,-89 352,-89 352,-89 358,-89 364,-95 364,-101 364,-101 364,-145 364,-145 364,-151 358,-157 352,-157\"/>\n<text text-anchor=\"middle\" x=\"278.5\" y=\"-141.8\" font-family=\"Helvetica,sans-Serif\" font-size=\"14.00\" fill=\"#000000\">Other? &lt;= 0.5</text>\n<text text-anchor=\"middle\" x=\"278.5\" y=\"-126.8\" font-family=\"Helvetica,sans-Serif\" font-size=\"14.00\" fill=\"#000000\">mse = 23394288141.64</text>\n<text text-anchor=\"middle\" x=\"278.5\" y=\"-111.8\" font-family=\"Helvetica,sans-Serif\" font-size=\"14.00\" fill=\"#000000\">samples = 37213</text>\n<text text-anchor=\"middle\" x=\"278.5\" y=\"-96.8\" font-family=\"Helvetica,sans-Serif\" font-size=\"14.00\" fill=\"#000000\">value = 213199.424</text>\n</g>\n<!-- 4&#45;&gt;5 -->\n<g id=\"edge5\" class=\"edge\">\n<title>4&#45;&gt;5</title>\n<path fill=\"none\" stroke=\"#000000\" d=\"M482.6928,-195.2315C448.2716,-183.0553 408.8937,-169.1257 373.9616,-156.7687\"/>\n<polygon fill=\"#000000\" stroke=\"#000000\" points=\"374.8294,-153.3632 364.2346,-153.3279 372.4949,-159.9625 374.8294,-153.3632\"/>\n</g>\n<!-- 8 -->\n<g id=\"node9\" class=\"node\">\n<title>8</title>\n<path fill=\"#fbebe0\" stroke=\"#000000\" d=\"M646,-157C646,-157 499,-157 499,-157 493,-157 487,-151 487,-145 487,-145 487,-101 487,-101 487,-95 493,-89 499,-89 499,-89 646,-89 646,-89 652,-89 658,-95 658,-101 658,-101 658,-145 658,-145 658,-151 652,-157 646,-157\"/>\n<text text-anchor=\"middle\" x=\"572.5\" y=\"-141.8\" font-family=\"Helvetica,sans-Serif\" font-size=\"14.00\" fill=\"#000000\">Flat/maisonette? &lt;= 0.5</text>\n<text text-anchor=\"middle\" x=\"572.5\" y=\"-126.8\" font-family=\"Helvetica,sans-Serif\" font-size=\"14.00\" fill=\"#000000\">mse = 9670509989.407</text>\n<text text-anchor=\"middle\" x=\"572.5\" y=\"-111.8\" font-family=\"Helvetica,sans-Serif\" font-size=\"14.00\" fill=\"#000000\">samples = 320538</text>\n<text text-anchor=\"middle\" x=\"572.5\" y=\"-96.8\" font-family=\"Helvetica,sans-Serif\" font-size=\"14.00\" fill=\"#000000\">value = 177057.632</text>\n</g>\n<!-- 4&#45;&gt;8 -->\n<g id=\"edge8\" class=\"edge\">\n<title>4&#45;&gt;8</title>\n<path fill=\"none\" stroke=\"#000000\" d=\"M572.5,-192.9465C572.5,-184.776 572.5,-175.9318 572.5,-167.3697\"/>\n<polygon fill=\"#000000\" stroke=\"#000000\" points=\"576.0001,-167.13 572.5,-157.13 569.0001,-167.13 576.0001,-167.13\"/>\n</g>\n<!-- 6 -->\n<g id=\"node7\" class=\"node\">\n<title>6</title>\n<path fill=\"#fcf0e7\" stroke=\"#000000\" d=\"M159,-53C159,-53 12,-53 12,-53 6,-53 0,-47 0,-41 0,-41 0,-12 0,-12 0,-6 6,0 12,0 12,0 159,0 159,0 165,0 171,-6 171,-12 171,-12 171,-41 171,-41 171,-47 165,-53 159,-53\"/>\n<text text-anchor=\"middle\" x=\"85.5\" y=\"-37.8\" font-family=\"Helvetica,sans-Serif\" font-size=\"14.00\" fill=\"#000000\">mse = 8496987522.519</text>\n<text text-anchor=\"middle\" x=\"85.5\" y=\"-22.8\" font-family=\"Helvetica,sans-Serif\" font-size=\"14.00\" fill=\"#000000\">samples = 6067</text>\n<text text-anchor=\"middle\" x=\"85.5\" y=\"-7.8\" font-family=\"Helvetica,sans-Serif\" font-size=\"14.00\" fill=\"#000000\">value = 166039.517</text>\n</g>\n<!-- 5&#45;&gt;6 -->\n<g id=\"edge6\" class=\"edge\">\n<title>5&#45;&gt;6</title>\n<path fill=\"none\" stroke=\"#000000\" d=\"M210.4554,-88.9777C190.0328,-78.7664 167.7429,-67.6214 147.717,-57.6085\"/>\n<polygon fill=\"#000000\" stroke=\"#000000\" points=\"149.1996,-54.4367 138.6901,-53.095 146.0691,-60.6977 149.1996,-54.4367\"/>\n</g>\n<!-- 7 -->\n<g id=\"node8\" class=\"node\">\n<title>7</title>\n<path fill=\"#f7dac4\" stroke=\"#000000\" d=\"M356,-53C356,-53 201,-53 201,-53 195,-53 189,-47 189,-41 189,-41 189,-12 189,-12 189,-6 195,0 201,0 201,0 356,0 356,0 362,0 368,-6 368,-12 368,-12 368,-41 368,-41 368,-47 362,-53 356,-53\"/>\n<text text-anchor=\"middle\" x=\"278.5\" y=\"-37.8\" font-family=\"Helvetica,sans-Serif\" font-size=\"14.00\" fill=\"#000000\">mse = 25778548386.406</text>\n<text text-anchor=\"middle\" x=\"278.5\" y=\"-22.8\" font-family=\"Helvetica,sans-Serif\" font-size=\"14.00\" fill=\"#000000\">samples = 31146</text>\n<text text-anchor=\"middle\" x=\"278.5\" y=\"-7.8\" font-family=\"Helvetica,sans-Serif\" font-size=\"14.00\" fill=\"#000000\">value = 222385.809</text>\n</g>\n<!-- 5&#45;&gt;7 -->\n<g id=\"edge7\" class=\"edge\">\n<title>5&#45;&gt;7</title>\n<path fill=\"none\" stroke=\"#000000\" d=\"M278.5,-88.9777C278.5,-80.7364 278.5,-71.887 278.5,-63.5153\"/>\n<polygon fill=\"#000000\" stroke=\"#000000\" points=\"282.0001,-63.2484 278.5,-53.2485 275.0001,-63.2485 282.0001,-63.2484\"/>\n</g>\n<!-- 9 -->\n<g id=\"node10\" class=\"node\">\n<title>9</title>\n<path fill=\"#ffffff\" stroke=\"#000000\" d=\"M553,-53C553,-53 398,-53 398,-53 392,-53 386,-47 386,-41 386,-41 386,-12 386,-12 386,-6 392,0 398,0 398,0 553,0 553,0 559,0 565,-6 565,-12 565,-12 565,-41 565,-41 565,-47 559,-53 553,-53\"/>\n<text text-anchor=\"middle\" x=\"475.5\" y=\"-37.8\" font-family=\"Helvetica,sans-Serif\" font-size=\"14.00\" fill=\"#000000\">mse = 16418646577.168</text>\n<text text-anchor=\"middle\" x=\"475.5\" y=\"-22.8\" font-family=\"Helvetica,sans-Serif\" font-size=\"14.00\" fill=\"#000000\">samples = 12666</text>\n<text text-anchor=\"middle\" x=\"475.5\" y=\"-7.8\" font-family=\"Helvetica,sans-Serif\" font-size=\"14.00\" fill=\"#000000\">value = 126809.873</text>\n</g>\n<!-- 8&#45;&gt;9 -->\n<g id=\"edge9\" class=\"edge\">\n<title>8&#45;&gt;9</title>\n<path fill=\"none\" stroke=\"#000000\" d=\"M538.3014,-88.9777C529.005,-79.7292 518.9386,-69.7147 509.6451,-60.4691\"/>\n<polygon fill=\"#000000\" stroke=\"#000000\" points=\"511.9449,-57.82 502.3871,-53.2485 507.0079,-62.7825 511.9449,-57.82\"/>\n</g>\n<!-- 10 -->\n<g id=\"node11\" class=\"node\">\n<title>10</title>\n<path fill=\"#fbebdf\" stroke=\"#000000\" d=\"M742,-53C742,-53 595,-53 595,-53 589,-53 583,-47 583,-41 583,-41 583,-12 583,-12 583,-6 589,0 595,0 595,0 742,0 742,0 748,0 754,-6 754,-12 754,-12 754,-41 754,-41 754,-47 748,-53 742,-53\"/>\n<text text-anchor=\"middle\" x=\"668.5\" y=\"-37.8\" font-family=\"Helvetica,sans-Serif\" font-size=\"14.00\" fill=\"#000000\">mse = 9284742066.115</text>\n<text text-anchor=\"middle\" x=\"668.5\" y=\"-22.8\" font-family=\"Helvetica,sans-Serif\" font-size=\"14.00\" fill=\"#000000\">samples = 307872</text>\n<text text-anchor=\"middle\" x=\"668.5\" y=\"-7.8\" font-family=\"Helvetica,sans-Serif\" font-size=\"14.00\" fill=\"#000000\">value = 179124.848</text>\n</g>\n<!-- 8&#45;&gt;10 -->\n<g id=\"edge10\" class=\"edge\">\n<title>8&#45;&gt;10</title>\n<path fill=\"none\" stroke=\"#000000\" d=\"M606.346,-88.9777C615.5466,-79.7292 625.5092,-69.7147 634.7069,-60.4691\"/>\n<polygon fill=\"#000000\" stroke=\"#000000\" points=\"637.3187,-62.8064 641.8901,-53.2485 632.3561,-57.8695 637.3187,-62.8064\"/>\n</g>\n<!-- 12 -->\n<g id=\"node13\" class=\"node\">\n<title>12</title>\n<path fill=\"#eb9d65\" stroke=\"#000000\" d=\"M1136,-157C1136,-157 981,-157 981,-157 975,-157 969,-151 969,-145 969,-145 969,-101 969,-101 969,-95 975,-89 981,-89 981,-89 1136,-89 1136,-89 1142,-89 1148,-95 1148,-101 1148,-101 1148,-145 1148,-145 1148,-151 1142,-157 1136,-157\"/>\n<text text-anchor=\"middle\" x=\"1058.5\" y=\"-141.8\" font-family=\"Helvetica,sans-Serif\" font-size=\"14.00\" fill=\"#000000\">EstateType &lt;= 0.5</text>\n<text text-anchor=\"middle\" x=\"1058.5\" y=\"-126.8\" font-family=\"Helvetica,sans-Serif\" font-size=\"14.00\" fill=\"#000000\">mse = 14564478602.125</text>\n<text text-anchor=\"middle\" x=\"1058.5\" y=\"-111.8\" font-family=\"Helvetica,sans-Serif\" font-size=\"14.00\" fill=\"#000000\">samples = 75746</text>\n<text text-anchor=\"middle\" x=\"1058.5\" y=\"-96.8\" font-family=\"Helvetica,sans-Serif\" font-size=\"14.00\" fill=\"#000000\">value = 378617.961</text>\n</g>\n<!-- 11&#45;&gt;12 -->\n<g id=\"edge12\" class=\"edge\">\n<title>11&#45;&gt;12</title>\n<path fill=\"none\" stroke=\"#000000\" d=\"M1125.0837,-192.9465C1116.4514,-183.8782 1107.0289,-173.9799 1098.0605,-164.5585\"/>\n<polygon fill=\"#000000\" stroke=\"#000000\" points=\"1100.419,-161.9599 1090.9891,-157.13 1095.3489,-166.7863 1100.419,-161.9599\"/>\n</g>\n<!-- 15 -->\n<g id=\"node16\" class=\"node\">\n<title>15</title>\n<path fill=\"#fbede3\" stroke=\"#000000\" d=\"M1333,-157C1333,-157 1178,-157 1178,-157 1172,-157 1166,-151 1166,-145 1166,-145 1166,-101 1166,-101 1166,-95 1172,-89 1178,-89 1178,-89 1333,-89 1333,-89 1339,-89 1345,-95 1345,-101 1345,-101 1345,-145 1345,-145 1345,-151 1339,-157 1333,-157\"/>\n<text text-anchor=\"middle\" x=\"1255.5\" y=\"-141.8\" font-family=\"Helvetica,sans-Serif\" font-size=\"14.00\" fill=\"#000000\">EstateType &lt;= 0.5</text>\n<text text-anchor=\"middle\" x=\"1255.5\" y=\"-126.8\" font-family=\"Helvetica,sans-Serif\" font-size=\"14.00\" fill=\"#000000\">mse = 31053074835.323</text>\n<text text-anchor=\"middle\" x=\"1255.5\" y=\"-111.8\" font-family=\"Helvetica,sans-Serif\" font-size=\"14.00\" fill=\"#000000\">samples = 3298</text>\n<text text-anchor=\"middle\" x=\"1255.5\" y=\"-96.8\" font-family=\"Helvetica,sans-Serif\" font-size=\"14.00\" fill=\"#000000\">value = 172576.977</text>\n</g>\n<!-- 11&#45;&gt;15 -->\n<g id=\"edge15\" class=\"edge\">\n<title>11&#45;&gt;15</title>\n<path fill=\"none\" stroke=\"#000000\" d=\"M1189.5889,-192.9465C1198.134,-183.8782 1207.4613,-173.9799 1216.3391,-164.5585\"/>\n<polygon fill=\"#000000\" stroke=\"#000000\" points=\"1219.0283,-166.8082 1223.339,-157.13 1213.9337,-162.0076 1219.0283,-166.8082\"/>\n</g>\n<!-- 13 -->\n<g id=\"node14\" class=\"node\">\n<title>13</title>\n<path fill=\"#eda978\" stroke=\"#000000\" d=\"M939,-53C939,-53 784,-53 784,-53 778,-53 772,-47 772,-41 772,-41 772,-12 772,-12 772,-6 778,0 784,0 784,0 939,0 939,0 945,0 951,-6 951,-12 951,-12 951,-41 951,-41 951,-47 945,-53 939,-53\"/>\n<text text-anchor=\"middle\" x=\"861.5\" y=\"-37.8\" font-family=\"Helvetica,sans-Serif\" font-size=\"14.00\" fill=\"#000000\">mse = 24931785659.359</text>\n<text text-anchor=\"middle\" x=\"861.5\" y=\"-22.8\" font-family=\"Helvetica,sans-Serif\" font-size=\"14.00\" fill=\"#000000\">samples = 181</text>\n<text text-anchor=\"middle\" x=\"861.5\" y=\"-7.8\" font-family=\"Helvetica,sans-Serif\" font-size=\"14.00\" fill=\"#000000\">value = 346800.414</text>\n</g>\n<!-- 12&#45;&gt;13 -->\n<g id=\"edge13\" class=\"edge\">\n<title>12&#45;&gt;13</title>\n<path fill=\"none\" stroke=\"#000000\" d=\"M989.0452,-88.9777C968.1993,-78.7664 945.4474,-67.6214 925.0065,-57.6085\"/>\n<polygon fill=\"#000000\" stroke=\"#000000\" points=\"926.3126,-54.351 915.7924,-53.095 923.2332,-60.6373 926.3126,-54.351\"/>\n</g>\n<!-- 14 -->\n<g id=\"node15\" class=\"node\">\n<title>14</title>\n<path fill=\"#eb9d64\" stroke=\"#000000\" d=\"M1136,-53C1136,-53 981,-53 981,-53 975,-53 969,-47 969,-41 969,-41 969,-12 969,-12 969,-6 975,0 981,0 981,0 1136,0 1136,0 1142,0 1148,-6 1148,-12 1148,-12 1148,-41 1148,-41 1148,-47 1142,-53 1136,-53\"/>\n<text text-anchor=\"middle\" x=\"1058.5\" y=\"-37.8\" font-family=\"Helvetica,sans-Serif\" font-size=\"14.00\" fill=\"#000000\">mse = 14537215213.376</text>\n<text text-anchor=\"middle\" x=\"1058.5\" y=\"-22.8\" font-family=\"Helvetica,sans-Serif\" font-size=\"14.00\" fill=\"#000000\">samples = 75565</text>\n<text text-anchor=\"middle\" x=\"1058.5\" y=\"-7.8\" font-family=\"Helvetica,sans-Serif\" font-size=\"14.00\" fill=\"#000000\">value = 378694.174</text>\n</g>\n<!-- 12&#45;&gt;14 -->\n<g id=\"edge14\" class=\"edge\">\n<title>12&#45;&gt;14</title>\n<path fill=\"none\" stroke=\"#000000\" d=\"M1058.5,-88.9777C1058.5,-80.7364 1058.5,-71.887 1058.5,-63.5153\"/>\n<polygon fill=\"#000000\" stroke=\"#000000\" points=\"1062.0001,-63.2484 1058.5,-53.2485 1055.0001,-63.2485 1062.0001,-63.2484\"/>\n</g>\n<!-- 16 -->\n<g id=\"node17\" class=\"node\">\n<title>16</title>\n<path fill=\"#f9e1cf\" stroke=\"#000000\" d=\"M1333,-53C1333,-53 1178,-53 1178,-53 1172,-53 1166,-47 1166,-41 1166,-41 1166,-12 1166,-12 1166,-6 1172,0 1178,0 1178,0 1333,0 1333,0 1339,0 1345,-6 1345,-12 1345,-12 1345,-41 1345,-41 1345,-47 1339,-53 1333,-53\"/>\n<text text-anchor=\"middle\" x=\"1255.5\" y=\"-37.8\" font-family=\"Helvetica,sans-Serif\" font-size=\"14.00\" fill=\"#000000\">mse = 36299828552.863</text>\n<text text-anchor=\"middle\" x=\"1255.5\" y=\"-22.8\" font-family=\"Helvetica,sans-Serif\" font-size=\"14.00\" fill=\"#000000\">samples = 1080</text>\n<text text-anchor=\"middle\" x=\"1255.5\" y=\"-7.8\" font-family=\"Helvetica,sans-Serif\" font-size=\"14.00\" fill=\"#000000\">value = 204705.987</text>\n</g>\n<!-- 15&#45;&gt;16 -->\n<g id=\"edge16\" class=\"edge\">\n<title>15&#45;&gt;16</title>\n<path fill=\"none\" stroke=\"#000000\" d=\"M1255.5,-88.9777C1255.5,-80.7364 1255.5,-71.887 1255.5,-63.5153\"/>\n<polygon fill=\"#000000\" stroke=\"#000000\" points=\"1259.0001,-63.2484 1255.5,-53.2485 1252.0001,-63.2485 1259.0001,-63.2484\"/>\n</g>\n<!-- 17 -->\n<g id=\"node18\" class=\"node\">\n<title>17</title>\n<path fill=\"#fdf3ed\" stroke=\"#000000\" d=\"M1530,-53C1530,-53 1375,-53 1375,-53 1369,-53 1363,-47 1363,-41 1363,-41 1363,-12 1363,-12 1363,-6 1369,0 1375,0 1375,0 1530,0 1530,0 1536,0 1542,-6 1542,-12 1542,-12 1542,-41 1542,-41 1542,-47 1536,-53 1530,-53\"/>\n<text text-anchor=\"middle\" x=\"1452.5\" y=\"-37.8\" font-family=\"Helvetica,sans-Serif\" font-size=\"14.00\" fill=\"#000000\">mse = 27750910638.969</text>\n<text text-anchor=\"middle\" x=\"1452.5\" y=\"-22.8\" font-family=\"Helvetica,sans-Serif\" font-size=\"14.00\" fill=\"#000000\">samples = 2218</text>\n<text text-anchor=\"middle\" x=\"1452.5\" y=\"-7.8\" font-family=\"Helvetica,sans-Serif\" font-size=\"14.00\" fill=\"#000000\">value = 156932.554</text>\n</g>\n<!-- 15&#45;&gt;17 -->\n<g id=\"edge17\" class=\"edge\">\n<title>15&#45;&gt;17</title>\n<path fill=\"none\" stroke=\"#000000\" d=\"M1324.9548,-88.9777C1345.8007,-78.7664 1368.5526,-67.6214 1388.9935,-57.6085\"/>\n<polygon fill=\"#000000\" stroke=\"#000000\" points=\"1390.7668,-60.6373 1398.2076,-53.095 1387.6874,-54.351 1390.7668,-60.6373\"/>\n</g>\n<!-- 19 -->\n<g id=\"node20\" class=\"node\">\n<title>19</title>\n<path fill=\"#f8dcc9\" stroke=\"#000000\" d=\"M1727,-261C1727,-261 1572,-261 1572,-261 1566,-261 1560,-255 1560,-249 1560,-249 1560,-205 1560,-205 1560,-199 1566,-193 1572,-193 1572,-193 1727,-193 1727,-193 1733,-193 1739,-199 1739,-205 1739,-205 1739,-249 1739,-249 1739,-255 1733,-261 1727,-261\"/>\n<text text-anchor=\"middle\" x=\"1649.5\" y=\"-245.8\" font-family=\"Helvetica,sans-Serif\" font-size=\"14.00\" fill=\"#000000\">in London? &lt;= 0.5</text>\n<text text-anchor=\"middle\" x=\"1649.5\" y=\"-230.8\" font-family=\"Helvetica,sans-Serif\" font-size=\"14.00\" fill=\"#000000\">mse = 12327821890.323</text>\n<text text-anchor=\"middle\" x=\"1649.5\" y=\"-215.8\" font-family=\"Helvetica,sans-Serif\" font-size=\"14.00\" fill=\"#000000\">samples = 462018</text>\n<text text-anchor=\"middle\" x=\"1649.5\" y=\"-200.8\" font-family=\"Helvetica,sans-Serif\" font-size=\"14.00\" fill=\"#000000\">value = 215376.39</text>\n</g>\n<!-- 18&#45;&gt;19 -->\n<g id=\"edge19\" class=\"edge\">\n<title>18&#45;&gt;19</title>\n<path fill=\"none\" stroke=\"#000000\" d=\"M1714.7386,-296.9465C1706.2806,-287.8782 1697.0486,-277.9799 1688.2613,-268.5585\"/>\n<polygon fill=\"#000000\" stroke=\"#000000\" points=\"1690.713,-266.0557 1681.3328,-261.13 1685.594,-270.8302 1690.713,-266.0557\"/>\n</g>\n<!-- 22 -->\n<g id=\"node23\" class=\"node\">\n<title>22</title>\n<path fill=\"#fcefe6\" stroke=\"#000000\" d=\"M1916,-261C1916,-261 1769,-261 1769,-261 1763,-261 1757,-255 1757,-249 1757,-249 1757,-205 1757,-205 1757,-199 1763,-193 1769,-193 1769,-193 1916,-193 1916,-193 1922,-193 1928,-199 1928,-205 1928,-205 1928,-249 1928,-249 1928,-255 1922,-261 1916,-261\"/>\n<text text-anchor=\"middle\" x=\"1842.5\" y=\"-245.8\" font-family=\"Helvetica,sans-Serif\" font-size=\"14.00\" fill=\"#000000\">in London? &lt;= 0.5</text>\n<text text-anchor=\"middle\" x=\"1842.5\" y=\"-230.8\" font-family=\"Helvetica,sans-Serif\" font-size=\"14.00\" fill=\"#000000\">mse = 5436281757.052</text>\n<text text-anchor=\"middle\" x=\"1842.5\" y=\"-215.8\" font-family=\"Helvetica,sans-Serif\" font-size=\"14.00\" fill=\"#000000\">samples = 37867</text>\n<text text-anchor=\"middle\" x=\"1842.5\" y=\"-200.8\" font-family=\"Helvetica,sans-Serif\" font-size=\"14.00\" fill=\"#000000\">value = 167877.829</text>\n</g>\n<!-- 18&#45;&gt;22 -->\n<g id=\"edge22\" class=\"edge\">\n<title>18&#45;&gt;22</title>\n<path fill=\"none\" stroke=\"#000000\" d=\"M1777.934,-296.9465C1786.3047,-287.8782 1795.4416,-277.9799 1804.1383,-268.5585\"/>\n<polygon fill=\"#000000\" stroke=\"#000000\" points=\"1806.7844,-270.852 1810.9954,-261.13 1801.6407,-266.1041 1806.7844,-270.852\"/>\n</g>\n<!-- 20 -->\n<g id=\"node21\" class=\"node\">\n<title>20</title>\n<path fill=\"#f8ddca\" stroke=\"#000000\" d=\"M1530,-149.5C1530,-149.5 1375,-149.5 1375,-149.5 1369,-149.5 1363,-143.5 1363,-137.5 1363,-137.5 1363,-108.5 1363,-108.5 1363,-102.5 1369,-96.5 1375,-96.5 1375,-96.5 1530,-96.5 1530,-96.5 1536,-96.5 1542,-102.5 1542,-108.5 1542,-108.5 1542,-137.5 1542,-137.5 1542,-143.5 1536,-149.5 1530,-149.5\"/>\n<text text-anchor=\"middle\" x=\"1452.5\" y=\"-134.3\" font-family=\"Helvetica,sans-Serif\" font-size=\"14.00\" fill=\"#000000\">mse = 11962057499.603</text>\n<text text-anchor=\"middle\" x=\"1452.5\" y=\"-119.3\" font-family=\"Helvetica,sans-Serif\" font-size=\"14.00\" fill=\"#000000\">samples = 458904</text>\n<text text-anchor=\"middle\" x=\"1452.5\" y=\"-104.3\" font-family=\"Helvetica,sans-Serif\" font-size=\"14.00\" fill=\"#000000\">value = 213787.031</text>\n</g>\n<!-- 19&#45;&gt;20 -->\n<g id=\"edge20\" class=\"edge\">\n<title>19&#45;&gt;20</title>\n<path fill=\"none\" stroke=\"#000000\" d=\"M1584.9948,-192.9465C1561.4176,-180.4997 1534.8786,-166.4892 1511.7791,-154.2946\"/>\n<polygon fill=\"#000000\" stroke=\"#000000\" points=\"1513.2543,-151.1156 1502.777,-149.5422 1509.9863,-157.3059 1513.2543,-151.1156\"/>\n</g>\n<!-- 21 -->\n<g id=\"node22\" class=\"node\">\n<title>21</title>\n<path fill=\"#e58139\" stroke=\"#000000\" d=\"M1727,-149.5C1727,-149.5 1572,-149.5 1572,-149.5 1566,-149.5 1560,-143.5 1560,-137.5 1560,-137.5 1560,-108.5 1560,-108.5 1560,-102.5 1566,-96.5 1572,-96.5 1572,-96.5 1727,-96.5 1727,-96.5 1733,-96.5 1739,-102.5 1739,-108.5 1739,-108.5 1739,-137.5 1739,-137.5 1739,-143.5 1733,-149.5 1727,-149.5\"/>\n<text text-anchor=\"middle\" x=\"1649.5\" y=\"-134.3\" font-family=\"Helvetica,sans-Serif\" font-size=\"14.00\" fill=\"#000000\">mse = 10998252785.514</text>\n<text text-anchor=\"middle\" x=\"1649.5\" y=\"-119.3\" font-family=\"Helvetica,sans-Serif\" font-size=\"14.00\" fill=\"#000000\">samples = 3114</text>\n<text text-anchor=\"middle\" x=\"1649.5\" y=\"-104.3\" font-family=\"Helvetica,sans-Serif\" font-size=\"14.00\" fill=\"#000000\">value = 449596.972</text>\n</g>\n<!-- 19&#45;&gt;21 -->\n<g id=\"edge21\" class=\"edge\">\n<title>19&#45;&gt;21</title>\n<path fill=\"none\" stroke=\"#000000\" d=\"M1649.5,-192.9465C1649.5,-182.2621 1649.5,-170.4254 1649.5,-159.5742\"/>\n<polygon fill=\"#000000\" stroke=\"#000000\" points=\"1653.0001,-159.5421 1649.5,-149.5422 1646.0001,-159.5422 1653.0001,-159.5421\"/>\n</g>\n<!-- 23 -->\n<g id=\"node24\" class=\"node\">\n<title>23</title>\n<path fill=\"#fcefe6\" stroke=\"#000000\" d=\"M1916,-149.5C1916,-149.5 1769,-149.5 1769,-149.5 1763,-149.5 1757,-143.5 1757,-137.5 1757,-137.5 1757,-108.5 1757,-108.5 1757,-102.5 1763,-96.5 1769,-96.5 1769,-96.5 1916,-96.5 1916,-96.5 1922,-96.5 1928,-102.5 1928,-108.5 1928,-108.5 1928,-137.5 1928,-137.5 1928,-143.5 1922,-149.5 1916,-149.5\"/>\n<text text-anchor=\"middle\" x=\"1842.5\" y=\"-134.3\" font-family=\"Helvetica,sans-Serif\" font-size=\"14.00\" fill=\"#000000\">mse = 5202031280.499</text>\n<text text-anchor=\"middle\" x=\"1842.5\" y=\"-119.3\" font-family=\"Helvetica,sans-Serif\" font-size=\"14.00\" fill=\"#000000\">samples = 37701</text>\n<text text-anchor=\"middle\" x=\"1842.5\" y=\"-104.3\" font-family=\"Helvetica,sans-Serif\" font-size=\"14.00\" fill=\"#000000\">value = 166925.82</text>\n</g>\n<!-- 22&#45;&gt;23 -->\n<g id=\"edge23\" class=\"edge\">\n<title>22&#45;&gt;23</title>\n<path fill=\"none\" stroke=\"#000000\" d=\"M1842.5,-192.9465C1842.5,-182.2621 1842.5,-170.4254 1842.5,-159.5742\"/>\n<polygon fill=\"#000000\" stroke=\"#000000\" points=\"1846.0001,-159.5421 1842.5,-149.5422 1839.0001,-159.5422 1846.0001,-159.5421\"/>\n</g>\n<!-- 24 -->\n<g id=\"node25\" class=\"node\">\n<title>24</title>\n<path fill=\"#ea9b61\" stroke=\"#000000\" d=\"M2113,-149.5C2113,-149.5 1958,-149.5 1958,-149.5 1952,-149.5 1946,-143.5 1946,-137.5 1946,-137.5 1946,-108.5 1946,-108.5 1946,-102.5 1952,-96.5 1958,-96.5 1958,-96.5 2113,-96.5 2113,-96.5 2119,-96.5 2125,-102.5 2125,-108.5 2125,-108.5 2125,-137.5 2125,-137.5 2125,-143.5 2119,-149.5 2113,-149.5\"/>\n<text text-anchor=\"middle\" x=\"2035.5\" y=\"-134.3\" font-family=\"Helvetica,sans-Serif\" font-size=\"14.00\" fill=\"#000000\">mse = 11683201660.597</text>\n<text text-anchor=\"middle\" x=\"2035.5\" y=\"-119.3\" font-family=\"Helvetica,sans-Serif\" font-size=\"14.00\" fill=\"#000000\">samples = 166</text>\n<text text-anchor=\"middle\" x=\"2035.5\" y=\"-104.3\" font-family=\"Helvetica,sans-Serif\" font-size=\"14.00\" fill=\"#000000\">value = 384092.795</text>\n</g>\n<!-- 22&#45;&gt;24 -->\n<g id=\"edge24\" class=\"edge\">\n<title>22&#45;&gt;24</title>\n<path fill=\"none\" stroke=\"#000000\" d=\"M1905.6954,-192.9465C1928.7939,-180.4997 1954.7941,-166.4892 1977.4245,-154.2946\"/>\n<polygon fill=\"#000000\" stroke=\"#000000\" points=\"1979.1009,-157.3671 1986.2439,-149.5422 1975.7803,-151.2048 1979.1009,-157.3671\"/>\n</g>\n<!-- 26 -->\n<g id=\"node27\" class=\"node\">\n<title>26</title>\n<path fill=\"#f1ba92\" stroke=\"#000000\" d=\"M2294,-365C2294,-365 2139,-365 2139,-365 2133,-365 2127,-359 2127,-353 2127,-353 2127,-309 2127,-309 2127,-303 2133,-297 2139,-297 2139,-297 2294,-297 2294,-297 2300,-297 2306,-303 2306,-309 2306,-309 2306,-353 2306,-353 2306,-359 2300,-365 2294,-365\"/>\n<text text-anchor=\"middle\" x=\"2216.5\" y=\"-349.8\" font-family=\"Helvetica,sans-Serif\" font-size=\"14.00\" fill=\"#000000\">in London? &lt;= 0.5</text>\n<text text-anchor=\"middle\" x=\"2216.5\" y=\"-334.8\" font-family=\"Helvetica,sans-Serif\" font-size=\"14.00\" fill=\"#000000\">mse = 13974063507.993</text>\n<text text-anchor=\"middle\" x=\"2216.5\" y=\"-319.8\" font-family=\"Helvetica,sans-Serif\" font-size=\"14.00\" fill=\"#000000\">samples = 399014</text>\n<text text-anchor=\"middle\" x=\"2216.5\" y=\"-304.8\" font-family=\"Helvetica,sans-Serif\" font-size=\"14.00\" fill=\"#000000\">value = 304412.329</text>\n</g>\n<!-- 25&#45;&gt;26 -->\n<g id=\"edge26\" class=\"edge\">\n<title>25&#45;&gt;26</title>\n<path fill=\"none\" stroke=\"#000000\" d=\"M2313.349,-400.9465C2300.1713,-391.4293 2285.7278,-380.9978 2272.1103,-371.163\"/>\n<polygon fill=\"#000000\" stroke=\"#000000\" points=\"2273.913,-368.1476 2263.7569,-365.13 2269.8145,-373.8223 2273.913,-368.1476\"/>\n</g>\n<!-- 29 -->\n<g id=\"node30\" class=\"node\">\n<title>29</title>\n<path fill=\"#f5ceb1\" stroke=\"#000000\" d=\"M2483,-365C2483,-365 2336,-365 2336,-365 2330,-365 2324,-359 2324,-353 2324,-353 2324,-309 2324,-309 2324,-303 2330,-297 2336,-297 2336,-297 2483,-297 2483,-297 2489,-297 2495,-303 2495,-309 2495,-309 2495,-353 2495,-353 2495,-359 2489,-365 2483,-365\"/>\n<text text-anchor=\"middle\" x=\"2409.5\" y=\"-349.8\" font-family=\"Helvetica,sans-Serif\" font-size=\"14.00\" fill=\"#000000\">in London? &lt;= 0.5</text>\n<text text-anchor=\"middle\" x=\"2409.5\" y=\"-334.8\" font-family=\"Helvetica,sans-Serif\" font-size=\"14.00\" fill=\"#000000\">mse = 8316542505.866</text>\n<text text-anchor=\"middle\" x=\"2409.5\" y=\"-319.8\" font-family=\"Helvetica,sans-Serif\" font-size=\"14.00\" fill=\"#000000\">samples = 22348</text>\n<text text-anchor=\"middle\" x=\"2409.5\" y=\"-304.8\" font-family=\"Helvetica,sans-Serif\" font-size=\"14.00\" fill=\"#000000\">value = 253296.671</text>\n</g>\n<!-- 25&#45;&gt;29 -->\n<g id=\"edge29\" class=\"edge\">\n<title>25&#45;&gt;29</title>\n<path fill=\"none\" stroke=\"#000000\" d=\"M2376.5444,-400.9465C2380.5632,-392.4169 2384.9279,-383.153 2389.1262,-374.2424\"/>\n<polygon fill=\"#000000\" stroke=\"#000000\" points=\"2392.3235,-375.668 2393.4195,-365.13 2385.9911,-372.6844 2392.3235,-375.668\"/>\n</g>\n<!-- 27 -->\n<g id=\"node28\" class=\"node\">\n<title>27</title>\n<path fill=\"#f1ba92\" stroke=\"#000000\" d=\"M2097,-253.5C2097,-253.5 1958,-253.5 1958,-253.5 1952,-253.5 1946,-247.5 1946,-241.5 1946,-241.5 1946,-212.5 1946,-212.5 1946,-206.5 1952,-200.5 1958,-200.5 1958,-200.5 2097,-200.5 2097,-200.5 2103,-200.5 2109,-206.5 2109,-212.5 2109,-212.5 2109,-241.5 2109,-241.5 2109,-247.5 2103,-253.5 2097,-253.5\"/>\n<text text-anchor=\"middle\" x=\"2027.5\" y=\"-238.3\" font-family=\"Helvetica,sans-Serif\" font-size=\"14.00\" fill=\"#000000\">mse = 13955498923.2</text>\n<text text-anchor=\"middle\" x=\"2027.5\" y=\"-223.3\" font-family=\"Helvetica,sans-Serif\" font-size=\"14.00\" fill=\"#000000\">samples = 398644</text>\n<text text-anchor=\"middle\" x=\"2027.5\" y=\"-208.3\" font-family=\"Helvetica,sans-Serif\" font-size=\"14.00\" fill=\"#000000\">value = 304287.714</text>\n</g>\n<!-- 26&#45;&gt;27 -->\n<g id=\"edge27\" class=\"edge\">\n<title>26&#45;&gt;27</title>\n<path fill=\"none\" stroke=\"#000000\" d=\"M2154.6143,-296.9465C2132.0947,-284.5547 2106.7585,-270.6132 2084.6662,-258.4565\"/>\n<polygon fill=\"#000000\" stroke=\"#000000\" points=\"2086.1838,-255.2968 2075.7353,-253.5422 2082.8091,-261.4296 2086.1838,-255.2968\"/>\n</g>\n<!-- 28 -->\n<g id=\"node29\" class=\"node\">\n<title>28</title>\n<path fill=\"#e68540\" stroke=\"#000000\" d=\"M2294,-253.5C2294,-253.5 2139,-253.5 2139,-253.5 2133,-253.5 2127,-247.5 2127,-241.5 2127,-241.5 2127,-212.5 2127,-212.5 2127,-206.5 2133,-200.5 2139,-200.5 2139,-200.5 2294,-200.5 2294,-200.5 2300,-200.5 2306,-206.5 2306,-212.5 2306,-212.5 2306,-241.5 2306,-241.5 2306,-247.5 2300,-253.5 2294,-253.5\"/>\n<text text-anchor=\"middle\" x=\"2216.5\" y=\"-238.3\" font-family=\"Helvetica,sans-Serif\" font-size=\"14.00\" fill=\"#000000\">mse = 15932956488.772</text>\n<text text-anchor=\"middle\" x=\"2216.5\" y=\"-223.3\" font-family=\"Helvetica,sans-Serif\" font-size=\"14.00\" fill=\"#000000\">samples = 370</text>\n<text text-anchor=\"middle\" x=\"2216.5\" y=\"-208.3\" font-family=\"Helvetica,sans-Serif\" font-size=\"14.00\" fill=\"#000000\">value = 438673.868</text>\n</g>\n<!-- 26&#45;&gt;28 -->\n<g id=\"edge28\" class=\"edge\">\n<title>26&#45;&gt;28</title>\n<path fill=\"none\" stroke=\"#000000\" d=\"M2216.5,-296.9465C2216.5,-286.2621 2216.5,-274.4254 2216.5,-263.5742\"/>\n<polygon fill=\"#000000\" stroke=\"#000000\" points=\"2220.0001,-263.5421 2216.5,-253.5422 2213.0001,-263.5422 2220.0001,-263.5421\"/>\n</g>\n<!-- 30 -->\n<g id=\"node31\" class=\"node\">\n<title>30</title>\n<path fill=\"#f5ceb2\" stroke=\"#000000\" d=\"M2483,-253.5C2483,-253.5 2336,-253.5 2336,-253.5 2330,-253.5 2324,-247.5 2324,-241.5 2324,-241.5 2324,-212.5 2324,-212.5 2324,-206.5 2330,-200.5 2336,-200.5 2336,-200.5 2483,-200.5 2483,-200.5 2489,-200.5 2495,-206.5 2495,-212.5 2495,-212.5 2495,-241.5 2495,-241.5 2495,-247.5 2489,-253.5 2483,-253.5\"/>\n<text text-anchor=\"middle\" x=\"2409.5\" y=\"-238.3\" font-family=\"Helvetica,sans-Serif\" font-size=\"14.00\" fill=\"#000000\">mse = 8270076075.536</text>\n<text text-anchor=\"middle\" x=\"2409.5\" y=\"-223.3\" font-family=\"Helvetica,sans-Serif\" font-size=\"14.00\" fill=\"#000000\">samples = 22318</text>\n<text text-anchor=\"middle\" x=\"2409.5\" y=\"-208.3\" font-family=\"Helvetica,sans-Serif\" font-size=\"14.00\" fill=\"#000000\">value = 253058.253</text>\n</g>\n<!-- 29&#45;&gt;30 -->\n<g id=\"edge30\" class=\"edge\">\n<title>29&#45;&gt;30</title>\n<path fill=\"none\" stroke=\"#000000\" d=\"M2409.5,-296.9465C2409.5,-286.2621 2409.5,-274.4254 2409.5,-263.5742\"/>\n<polygon fill=\"#000000\" stroke=\"#000000\" points=\"2413.0001,-263.5421 2409.5,-253.5422 2406.0001,-263.5422 2413.0001,-263.5421\"/>\n</g>\n<!-- 31 -->\n<g id=\"node32\" class=\"node\">\n<title>31</title>\n<path fill=\"#e78845\" stroke=\"#000000\" d=\"M2680,-253.5C2680,-253.5 2525,-253.5 2525,-253.5 2519,-253.5 2513,-247.5 2513,-241.5 2513,-241.5 2513,-212.5 2513,-212.5 2513,-206.5 2519,-200.5 2525,-200.5 2525,-200.5 2680,-200.5 2680,-200.5 2686,-200.5 2692,-206.5 2692,-212.5 2692,-212.5 2692,-241.5 2692,-241.5 2692,-247.5 2686,-253.5 2680,-253.5\"/>\n<text text-anchor=\"middle\" x=\"2602.5\" y=\"-238.3\" font-family=\"Helvetica,sans-Serif\" font-size=\"14.00\" fill=\"#000000\">mse = 11383189601.917</text>\n<text text-anchor=\"middle\" x=\"2602.5\" y=\"-223.3\" font-family=\"Helvetica,sans-Serif\" font-size=\"14.00\" fill=\"#000000\">samples = 30</text>\n<text text-anchor=\"middle\" x=\"2602.5\" y=\"-208.3\" font-family=\"Helvetica,sans-Serif\" font-size=\"14.00\" fill=\"#000000\">value = 430663.5</text>\n</g>\n<!-- 29&#45;&gt;31 -->\n<g id=\"edge31\" class=\"edge\">\n<title>29&#45;&gt;31</title>\n<path fill=\"none\" stroke=\"#000000\" d=\"M2472.6954,-296.9465C2495.7939,-284.4997 2521.7941,-270.4892 2544.4245,-258.2946\"/>\n<polygon fill=\"#000000\" stroke=\"#000000\" points=\"2546.1009,-261.3671 2553.2439,-253.5422 2542.7803,-255.2048 2546.1009,-261.3671\"/>\n</g>\n<!-- 33 -->\n<g id=\"node34\" class=\"node\">\n<title>33</title>\n<path fill=\"#fbe9dd\" stroke=\"#000000\" d=\"M2729,-469C2729,-469 2574,-469 2574,-469 2568,-469 2562,-463 2562,-457 2562,-457 2562,-413 2562,-413 2562,-407 2568,-401 2574,-401 2574,-401 2729,-401 2729,-401 2735,-401 2741,-407 2741,-413 2741,-413 2741,-457 2741,-457 2741,-463 2735,-469 2729,-469\"/>\n<text text-anchor=\"middle\" x=\"2651.5\" y=\"-453.8\" font-family=\"Helvetica,sans-Serif\" font-size=\"14.00\" fill=\"#000000\">EstateType &lt;= 0.5</text>\n<text text-anchor=\"middle\" x=\"2651.5\" y=\"-438.8\" font-family=\"Helvetica,sans-Serif\" font-size=\"14.00\" fill=\"#000000\">mse = 11168460895.006</text>\n<text text-anchor=\"middle\" x=\"2651.5\" y=\"-423.8\" font-family=\"Helvetica,sans-Serif\" font-size=\"14.00\" fill=\"#000000\">samples = 544854</text>\n<text text-anchor=\"middle\" x=\"2651.5\" y=\"-408.8\" font-family=\"Helvetica,sans-Serif\" font-size=\"14.00\" fill=\"#000000\">value = 182474.6</text>\n</g>\n<!-- 32&#45;&gt;33 -->\n<g id=\"edge33\" class=\"edge\">\n<title>32&#45;&gt;33</title>\n<path fill=\"none\" stroke=\"#000000\" d=\"M2651.5,-504.9465C2651.5,-496.776 2651.5,-487.9318 2651.5,-479.3697\"/>\n<polygon fill=\"#000000\" stroke=\"#000000\" points=\"2655.0001,-479.13 2651.5,-469.13 2648.0001,-479.13 2655.0001,-479.13\"/>\n</g>\n<!-- 36 -->\n<g id=\"node37\" class=\"node\">\n<title>36</title>\n<path fill=\"#e88f4f\" stroke=\"#000000\" d=\"M3066,-469C3066,-469 2911,-469 2911,-469 2905,-469 2899,-463 2899,-457 2899,-457 2899,-413 2899,-413 2899,-407 2905,-401 2911,-401 2911,-401 3066,-401 3066,-401 3072,-401 3078,-407 3078,-413 3078,-413 3078,-457 3078,-457 3078,-463 3072,-469 3066,-469\"/>\n<text text-anchor=\"middle\" x=\"2988.5\" y=\"-453.8\" font-family=\"Helvetica,sans-Serif\" font-size=\"14.00\" fill=\"#000000\">EstateType &lt;= 0.5</text>\n<text text-anchor=\"middle\" x=\"2988.5\" y=\"-438.8\" font-family=\"Helvetica,sans-Serif\" font-size=\"14.00\" fill=\"#000000\">mse = 12228047418.355</text>\n<text text-anchor=\"middle\" x=\"2988.5\" y=\"-423.8\" font-family=\"Helvetica,sans-Serif\" font-size=\"14.00\" fill=\"#000000\">samples = 16944</text>\n<text text-anchor=\"middle\" x=\"2988.5\" y=\"-408.8\" font-family=\"Helvetica,sans-Serif\" font-size=\"14.00\" fill=\"#000000\">value = 413354.77</text>\n</g>\n<!-- 32&#45;&gt;36 -->\n<g id=\"edge36\" class=\"edge\">\n<title>32&#45;&gt;36</title>\n<path fill=\"none\" stroke=\"#000000\" d=\"M2741.3671,-511.2665C2786.8759,-497.2223 2842.2492,-480.1338 2889.0364,-465.695\"/>\n<polygon fill=\"#000000\" stroke=\"#000000\" points=\"2890.3601,-468.9494 2898.8833,-462.6562 2888.2959,-462.2607 2890.3601,-468.9494\"/>\n</g>\n<!-- 34 -->\n<g id=\"node35\" class=\"node\">\n<title>34</title>\n<path fill=\"#fae7da\" stroke=\"#000000\" d=\"M2680,-357.5C2680,-357.5 2525,-357.5 2525,-357.5 2519,-357.5 2513,-351.5 2513,-345.5 2513,-345.5 2513,-316.5 2513,-316.5 2513,-310.5 2519,-304.5 2525,-304.5 2525,-304.5 2680,-304.5 2680,-304.5 2686,-304.5 2692,-310.5 2692,-316.5 2692,-316.5 2692,-345.5 2692,-345.5 2692,-351.5 2686,-357.5 2680,-357.5\"/>\n<text text-anchor=\"middle\" x=\"2602.5\" y=\"-342.3\" font-family=\"Helvetica,sans-Serif\" font-size=\"14.00\" fill=\"#000000\">mse = 11281028572.019</text>\n<text text-anchor=\"middle\" x=\"2602.5\" y=\"-327.3\" font-family=\"Helvetica,sans-Serif\" font-size=\"14.00\" fill=\"#000000\">samples = 495937</text>\n<text text-anchor=\"middle\" x=\"2602.5\" y=\"-312.3\" font-family=\"Helvetica,sans-Serif\" font-size=\"14.00\" fill=\"#000000\">value = 187330.39</text>\n</g>\n<!-- 33&#45;&gt;34 -->\n<g id=\"edge34\" class=\"edge\">\n<title>33&#45;&gt;34</title>\n<path fill=\"none\" stroke=\"#000000\" d=\"M2635.4556,-400.9465C2630.3178,-390.0418 2624.6145,-377.9368 2619.4164,-366.9043\"/>\n<polygon fill=\"#000000\" stroke=\"#000000\" points=\"2622.4338,-365.0966 2615.0054,-357.5422 2616.1015,-368.0802 2622.4338,-365.0966\"/>\n</g>\n<!-- 35 -->\n<g id=\"node36\" class=\"node\">\n<title>35</title>\n<path fill=\"#fefcfb\" stroke=\"#000000\" d=\"M2869,-357.5C2869,-357.5 2722,-357.5 2722,-357.5 2716,-357.5 2710,-351.5 2710,-345.5 2710,-345.5 2710,-316.5 2710,-316.5 2710,-310.5 2716,-304.5 2722,-304.5 2722,-304.5 2869,-304.5 2869,-304.5 2875,-304.5 2881,-310.5 2881,-316.5 2881,-316.5 2881,-345.5 2881,-345.5 2881,-351.5 2875,-357.5 2869,-357.5\"/>\n<text text-anchor=\"middle\" x=\"2795.5\" y=\"-342.3\" font-family=\"Helvetica,sans-Serif\" font-size=\"14.00\" fill=\"#000000\">mse = 7364605663.124</text>\n<text text-anchor=\"middle\" x=\"2795.5\" y=\"-327.3\" font-family=\"Helvetica,sans-Serif\" font-size=\"14.00\" fill=\"#000000\">samples = 48917</text>\n<text text-anchor=\"middle\" x=\"2795.5\" y=\"-312.3\" font-family=\"Helvetica,sans-Serif\" font-size=\"14.00\" fill=\"#000000\">value = 133244.96</text>\n</g>\n<!-- 33&#45;&gt;35 -->\n<g id=\"edge35\" class=\"edge\">\n<title>33&#45;&gt;35</title>\n<path fill=\"none\" stroke=\"#000000\" d=\"M2698.651,-400.9465C2715.275,-388.9403 2733.9135,-375.4791 2750.3667,-363.5962\"/>\n<polygon fill=\"#000000\" stroke=\"#000000\" points=\"2752.6917,-366.2345 2758.7493,-357.5422 2748.5933,-360.5597 2752.6917,-366.2345\"/>\n</g>\n<!-- 37 -->\n<g id=\"node38\" class=\"node\">\n<title>37</title>\n<path fill=\"#e88f4f\" stroke=\"#000000\" d=\"M3066,-357.5C3066,-357.5 2911,-357.5 2911,-357.5 2905,-357.5 2899,-351.5 2899,-345.5 2899,-345.5 2899,-316.5 2899,-316.5 2899,-310.5 2905,-304.5 2911,-304.5 2911,-304.5 3066,-304.5 3066,-304.5 3072,-304.5 3078,-310.5 3078,-316.5 3078,-316.5 3078,-345.5 3078,-345.5 3078,-351.5 3072,-357.5 3066,-357.5\"/>\n<text text-anchor=\"middle\" x=\"2988.5\" y=\"-342.3\" font-family=\"Helvetica,sans-Serif\" font-size=\"14.00\" fill=\"#000000\">mse = 12049259560.082</text>\n<text text-anchor=\"middle\" x=\"2988.5\" y=\"-327.3\" font-family=\"Helvetica,sans-Serif\" font-size=\"14.00\" fill=\"#000000\">samples = 16065</text>\n<text text-anchor=\"middle\" x=\"2988.5\" y=\"-312.3\" font-family=\"Helvetica,sans-Serif\" font-size=\"14.00\" fill=\"#000000\">value = 414353.028</text>\n</g>\n<!-- 36&#45;&gt;37 -->\n<g id=\"edge37\" class=\"edge\">\n<title>36&#45;&gt;37</title>\n<path fill=\"none\" stroke=\"#000000\" d=\"M2988.5,-400.9465C2988.5,-390.2621 2988.5,-378.4254 2988.5,-367.5742\"/>\n<polygon fill=\"#000000\" stroke=\"#000000\" points=\"2992.0001,-367.5421 2988.5,-357.5422 2985.0001,-367.5422 2992.0001,-367.5421\"/>\n</g>\n<!-- 38 -->\n<g id=\"node39\" class=\"node\">\n<title>38</title>\n<path fill=\"#e9965a\" stroke=\"#000000\" d=\"M3263,-357.5C3263,-357.5 3108,-357.5 3108,-357.5 3102,-357.5 3096,-351.5 3096,-345.5 3096,-345.5 3096,-316.5 3096,-316.5 3096,-310.5 3102,-304.5 3108,-304.5 3108,-304.5 3263,-304.5 3263,-304.5 3269,-304.5 3275,-310.5 3275,-316.5 3275,-316.5 3275,-345.5 3275,-345.5 3275,-351.5 3269,-357.5 3263,-357.5\"/>\n<text text-anchor=\"middle\" x=\"3185.5\" y=\"-342.3\" font-family=\"Helvetica,sans-Serif\" font-size=\"14.00\" fill=\"#000000\">mse = 15144575956.027</text>\n<text text-anchor=\"middle\" x=\"3185.5\" y=\"-327.3\" font-family=\"Helvetica,sans-Serif\" font-size=\"14.00\" fill=\"#000000\">samples = 879</text>\n<text text-anchor=\"middle\" x=\"3185.5\" y=\"-312.3\" font-family=\"Helvetica,sans-Serif\" font-size=\"14.00\" fill=\"#000000\">value = 395110.152</text>\n</g>\n<!-- 36&#45;&gt;38 -->\n<g id=\"edge38\" class=\"edge\">\n<title>36&#45;&gt;38</title>\n<path fill=\"none\" stroke=\"#000000\" d=\"M3053.0052,-400.9465C3076.5824,-388.4997 3103.1214,-374.4892 3126.2209,-362.2946\"/>\n<polygon fill=\"#000000\" stroke=\"#000000\" points=\"3128.0137,-365.3059 3135.223,-357.5422 3124.7457,-359.1156 3128.0137,-365.3059\"/>\n</g>\n</g>\n</svg>\n"
          },
          "metadata": {
            "tags": []
          },
          "execution_count": 60
        }
      ]
    },
    {
      "cell_type": "code",
      "metadata": {
        "colab": {
          "base_uri": "https://localhost:8080/",
          "height": 37
        },
        "id": "iShvLKgRbv5Y",
        "outputId": "25b290d3-0782-4eef-c597-0e476d70b45e"
      },
      "source": [
        "graph.render(\"decision_tree_graphivz3\")"
      ],
      "execution_count": 61,
      "outputs": [
        {
          "output_type": "execute_result",
          "data": {
            "application/vnd.google.colaboratory.intrinsic+json": {
              "type": "string"
            },
            "text/plain": [
              "'decision_tree_graphivz3.png'"
            ]
          },
          "metadata": {
            "tags": []
          },
          "execution_count": 61
        }
      ]
    },
    {
      "cell_type": "code",
      "metadata": {
        "colab": {
          "base_uri": "https://localhost:8080/"
        },
        "id": "zhLkUrSJeb9p",
        "outputId": "b3491e28-efe4-465c-a3ad-90c4a089b318"
      },
      "source": [
        "text_representation = tree.export_text(final_model, feature_names= [\"EstateType\", \"Location?\", \"Detached?\", \"Flat/maisonette?\",\"Other?\", \"Semi-detached?\", \"terraced?\"],)\n",
        "print(text_representation)"
      ],
      "execution_count": 59,
      "outputs": [
        {
          "output_type": "stream",
          "text": [
            "|--- terraced? <= 0.50\n",
            "|   |--- Detached? <= 0.50\n",
            "|   |   |--- Semi-detached? <= 0.50\n",
            "|   |   |   |--- Location? <= 0.50\n",
            "|   |   |   |   |--- EstateType <= 0.50\n",
            "|   |   |   |   |   |--- Other? <= 0.50\n",
            "|   |   |   |   |   |   |--- value: [166039.52]\n",
            "|   |   |   |   |   |--- Other? >  0.50\n",
            "|   |   |   |   |   |   |--- value: [222385.81]\n",
            "|   |   |   |   |--- EstateType >  0.50\n",
            "|   |   |   |   |   |--- Flat/maisonette? <= 0.50\n",
            "|   |   |   |   |   |   |--- value: [126809.87]\n",
            "|   |   |   |   |   |--- Flat/maisonette? >  0.50\n",
            "|   |   |   |   |   |   |--- value: [179124.85]\n",
            "|   |   |   |--- Location? >  0.50\n",
            "|   |   |   |   |--- Other? <= 0.50\n",
            "|   |   |   |   |   |--- EstateType <= 0.50\n",
            "|   |   |   |   |   |   |--- value: [346800.41]\n",
            "|   |   |   |   |   |--- EstateType >  0.50\n",
            "|   |   |   |   |   |   |--- value: [378694.17]\n",
            "|   |   |   |   |--- Other? >  0.50\n",
            "|   |   |   |   |   |--- EstateType <= 0.50\n",
            "|   |   |   |   |   |   |--- value: [204705.99]\n",
            "|   |   |   |   |   |--- EstateType >  0.50\n",
            "|   |   |   |   |   |   |--- value: [156932.55]\n",
            "|   |   |--- Semi-detached? >  0.50\n",
            "|   |   |   |--- EstateType <= 0.50\n",
            "|   |   |   |   |--- Location? <= 0.50\n",
            "|   |   |   |   |   |--- value: [213787.03]\n",
            "|   |   |   |   |--- Location? >  0.50\n",
            "|   |   |   |   |   |--- value: [449596.97]\n",
            "|   |   |   |--- EstateType >  0.50\n",
            "|   |   |   |   |--- Location? <= 0.50\n",
            "|   |   |   |   |   |--- value: [166925.82]\n",
            "|   |   |   |   |--- Location? >  0.50\n",
            "|   |   |   |   |   |--- value: [384092.80]\n",
            "|   |--- Detached? >  0.50\n",
            "|   |   |--- EstateType <= 0.50\n",
            "|   |   |   |--- Location? <= 0.50\n",
            "|   |   |   |   |--- value: [304287.71]\n",
            "|   |   |   |--- Location? >  0.50\n",
            "|   |   |   |   |--- value: [438673.87]\n",
            "|   |   |--- EstateType >  0.50\n",
            "|   |   |   |--- Location? <= 0.50\n",
            "|   |   |   |   |--- value: [253058.25]\n",
            "|   |   |   |--- Location? >  0.50\n",
            "|   |   |   |   |--- value: [430663.50]\n",
            "|--- terraced? >  0.50\n",
            "|   |--- Location? <= 0.50\n",
            "|   |   |--- EstateType <= 0.50\n",
            "|   |   |   |--- value: [187330.39]\n",
            "|   |   |--- EstateType >  0.50\n",
            "|   |   |   |--- value: [133244.96]\n",
            "|   |--- Location? >  0.50\n",
            "|   |   |--- EstateType <= 0.50\n",
            "|   |   |   |--- value: [414353.03]\n",
            "|   |   |--- EstateType >  0.50\n",
            "|   |   |   |--- value: [395110.15]\n",
            "\n"
          ],
          "name": "stdout"
        }
      ]
    },
    {
      "cell_type": "markdown",
      "metadata": {
        "id": "vWw2ruzI8M30"
      },
      "source": [
        "## Try on test set"
      ]
    },
    {
      "cell_type": "code",
      "metadata": {
        "colab": {
          "base_uri": "https://localhost:8080/"
        },
        "id": "fwPpGBik8BGe",
        "outputId": "868d30b9-acd6-4130-9bb4-3faf469483cf"
      },
      "source": [
        "evaluate(final_model, x_test, y_test)"
      ],
      "execution_count": 26,
      "outputs": [
        {
          "output_type": "stream",
          "text": [
            "RMSE:  1822290.33093281 \n",
            " RMSE/Mean:  5.268013710381095 \n",
            " R2:  -0.0013274859506169356 \n",
            " (0.8*true_value, 1.2*true_value)%:  0.2708298680710024 \n",
            " (0.5*true_value, 1.5*true_value)%:  0.6392546796312115\n"
          ],
          "name": "stdout"
        }
      ]
    },
    {
      "cell_type": "markdown",
      "metadata": {
        "id": "vU4SB81VhKZk"
      },
      "source": [
        "There seem not be many predictions far deviating. However, the RMSE is extremely high, and the R sqare is abnormal even when a self defined R2 calculation function is used. \n"
      ]
    },
    {
      "cell_type": "code",
      "metadata": {
        "colab": {
          "base_uri": "https://localhost:8080/"
        },
        "id": "xeWKElVuhXzd",
        "outputId": "96d566e4-ec8c-48b5-af03-3ae6263cf62f"
      },
      "source": [
        "#try self-defined R sqare calculation\n",
        "def R2(true, pre):\n",
        "    RSS = 0\n",
        "    TSS = 0\n",
        "    true_mean = true.mean()\n",
        "    for i in range(len(true)):\n",
        "        RSS += (pre[i] - true[i]) ** 2\n",
        "        TSS += (true[i] - true_mean) ** 2\n",
        "    return 1-RSS/TSS\n",
        "\n",
        "R2(np.array(y_test['Price']), final_model.predict(x_test))"
      ],
      "execution_count": 27,
      "outputs": [
        {
          "output_type": "execute_result",
          "data": {
            "text/plain": [
              "-0.0013274859499110558"
            ]
          },
          "metadata": {
            "tags": []
          },
          "execution_count": 27
        }
      ]
    },
    {
      "cell_type": "markdown",
      "metadata": {
        "id": "N2sk_2NoxjU4"
      },
      "source": [
        "The abnormality can be due to the extremes or outliers in test set. Thus, below, we tried to predict on test set with outliers droped. (The outliers are identified in the same way as they were in training data)"
      ]
    },
    {
      "cell_type": "code",
      "metadata": {
        "colab": {
          "base_uri": "https://localhost:8080/",
          "height": 289
        },
        "id": "U2AwhetSldRZ",
        "outputId": "ba18c4bd-1aa4-4e47-d43c-9bce51054b7e"
      },
      "source": [
        "test['Price'].hist(bins = 50)\n",
        "plt.show()"
      ],
      "execution_count": 28,
      "outputs": [
        {
          "output_type": "display_data",
          "data": {
            "image/png": "[encoded data removed]",
            "text/plain": [
              "<Figure size 432x288 with 1 Axes>"
            ]
          },
          "metadata": {
            "tags": [],
            "needs_background": "light"
          }
        }
      ]
    },
    {
      "cell_type": "code",
      "metadata": {
        "id": "fge-Bjfv8tWu"
      },
      "source": [
        "# get quartiles\n",
        "Q1 = test['Price'].quantile(q = 0.25)\n",
        "Q3 = test['Price'].quantile(q = 0.75)\n",
        "\n",
        "# calculate lower and upper boundaries based on interquartile range\n",
        "lower_bound = Q1 - 1.5*(Q3 - Q1)\n",
        "upper_bound = Q3 + 1.5*(Q3 - Q1)\n",
        "\n",
        "test = test.drop(test[(test['Price']>upper_bound)|(test['Price']<lower_bound)].index)"
      ],
      "execution_count": 29,
      "outputs": []
    },
    {
      "cell_type": "code",
      "metadata": {
        "id": "iGPEZiYoHXh3"
      },
      "source": [
        "x_test = test.drop(columns=['Price','Time'])\n",
        "y_test = test.filter(items=['Price'])"
      ],
      "execution_count": 30,
      "outputs": []
    },
    {
      "cell_type": "code",
      "metadata": {
        "colab": {
          "base_uri": "https://localhost:8080/",
          "height": 265
        },
        "id": "-W9ekyBLsNNy",
        "outputId": "d5612481-49f5-4eb7-882c-2f288f3cdc22"
      },
      "source": [
        "test['Price'].hist(bins = 50)\n",
        "plt.show()"
      ],
      "execution_count": 31,
      "outputs": [
        {
          "output_type": "display_data",
          "data": {
            "image/png": "[encoded data removed]",
            "text/plain": [
              "<Figure size 432x288 with 1 Axes>"
            ]
          },
          "metadata": {
            "tags": [],
            "needs_background": "light"
          }
        }
      ]
    },
    {
      "cell_type": "code",
      "metadata": {
        "colab": {
          "base_uri": "https://localhost:8080/"
        },
        "id": "JFlG7SvYHd8e",
        "outputId": "2d8d04cf-c526-48b9-e0ad-f9257d627506"
      },
      "source": [
        "evaluate(final_model, x_test, y_test)"
      ],
      "execution_count": 32,
      "outputs": [
        {
          "output_type": "stream",
          "text": [
            "RMSE:  121659.35054348213 \n",
            " RMSE/Mean:  0.506478147165175 \n",
            " R2:  0.22241274935368405 \n",
            " (0.8*true_value, 1.2*true_value)%:  0.28957797029454263 \n",
            " (0.5*true_value, 1.5*true_value)%:  0.677929299323378\n"
          ],
          "name": "stdout"
        }
      ]
    }
  ]
}